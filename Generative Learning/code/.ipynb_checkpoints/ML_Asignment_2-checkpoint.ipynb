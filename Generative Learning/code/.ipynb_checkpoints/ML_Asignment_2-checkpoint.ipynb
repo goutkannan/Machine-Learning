{
 "cells": [
  {
   "cell_type": "code",
   "execution_count": 8,
   "metadata": {
    "collapsed": false
   },
   "outputs": [],
   "source": [
    "import numpy as np\n",
    "import math\n",
    "import matplotlib.pyplot as plt\n",
    "%matplotlib inline\n",
    "from collections import OrderedDict"
   ]
  },
  {
   "cell_type": "code",
   "execution_count": 9,
   "metadata": {
    "collapsed": false
   },
   "outputs": [],
   "source": [
    "def getdata_CSV(filename):\n",
    "    return np.genfromtxt(filename,delimiter=\",\")\n",
    "\n",
    "data1 = getdata_CSV(\"../data/credit_Score.csv\")"
   ]
  },
  {
   "cell_type": "markdown",
   "metadata": {},
   "source": [
    "#Data Preparation \n",
    "\n",
    "$ Removing\\space the \\space discrete \\space features \\space and \\space splitting \\space the \\space data \\space into \\space Train \\space and \\space Test \\space Set \\space with \\space equal \\space number \\space of \\space Y=0 \\space and \\space Y=1.  $"
   ]
  },
  {
   "cell_type": "code",
   "execution_count": 10,
   "metadata": {
    "collapsed": false
   },
   "outputs": [],
   "source": [
    "req_cols= [1,2,7,10,13,14,15]\n",
    "clean_data = data1[:,req_cols]"
   ]
  },
  {
   "cell_type": "code",
   "execution_count": 11,
   "metadata": {
    "collapsed": false,
    "scrolled": false
   },
   "outputs": [],
   "source": [
    "count_1 = 0\n",
    "count_2 = 0\n",
    "X_Train=[]\n",
    "X_Test=[]\n",
    "for row in clean_data:\n",
    "    \n",
    "    if count_1!=200 and count_2 !=200:\n",
    "        \n",
    "        X_Train.append(row)\n",
    "        if(row[6]==0):\n",
    "            count_1+=1\n",
    "        else:\n",
    "            count_2+=1\n",
    "        \n",
    "    elif count_1<200 and count_2 == 200:\n",
    "        \n",
    "        if row[len(row)-1]==0:\n",
    "             \n",
    "            X_Train.append(row)\n",
    "            count_1+=1\n",
    "        else:\n",
    "            X_Test.append(row)\n",
    "            \n",
    "    elif count_1==200 and count_2 <200:\n",
    "       \n",
    "        if row[len(row)-1]==1: \n",
    "            X_Train.append(row)\n",
    "            count_2+=1\n",
    "        else:\n",
    "            X_Test.append(row)\n",
    " \n",
    "        \n",
    "    elif count_1==200 and count_2==200 :\n",
    "       \n",
    "        X_Test.append(row)\n",
    "    "
   ]
  },
  {
   "cell_type": "code",
   "execution_count": 12,
   "metadata": {
    "collapsed": false
   },
   "outputs": [
    {
     "name": "stdout",
     "output_type": "stream",
     "text": [
      "Trainning Samples (400L, 7L) Testing Samples (253L, 6L)\n"
     ]
    }
   ],
   "source": [
    "X_Train=np.array(X_Train)\n",
    "Y_Train = np.array(X_Train[:,X_Train.shape[1]-1])\n",
    "\n",
    "\n",
    "X_Test =np.array(X_Test)\n",
    "Y_Test = np.array(X_Test[:,X_Train.shape[1]-1])\n",
    "X_Test = np.delete(X_Test,-1,1)\n",
    "print \"Trainning Samples\", X_Train.shape ,\"Testing Samples\", X_Test.shape\n",
    "\n"
   ]
  },
  {
   "cell_type": "code",
   "execution_count": 13,
   "metadata": {
    "collapsed": false
   },
   "outputs": [],
   "source": [
    "def mean_squared_error(y,y_cap):\n",
    "    \"\"\" Computes the mean squared Error\"\"\"\n",
    "    errors = 0\n",
    "    for i in range(0,len(y)):        \n",
    "        errors = errors + (y_cap[i] -y[i])**2\n",
    "        \n",
    "    return errors.sum()/len(y)"
   ]
  },
  {
   "cell_type": "markdown",
   "metadata": {},
   "source": [
    "#1D 2-Class Gaussian Discriminant Analysis\n",
    "###The Model Parameters are $ \\mu $ and $ \\sigma $\n",
    "\n",
    "Compute the mean and variance of samples with y=0 and y= 1 separately on X_Train\n",
    "\n",
    "$ \\mu _j = 1/m_j\\sum_{i=1}^{m_j}  X^{(i)} $\n",
    "\n",
    "$ \\sigma^2_j =  1/m_j\\sum_{i=1}^{m_j}  (X^{(i)}-\\mu_j)^2 $ "
   ]
  },
  {
   "cell_type": "code",
   "execution_count": 14,
   "metadata": {
    "collapsed": false
   },
   "outputs": [
    {
     "name": "stdout",
     "output_type": "stream",
     "text": [
      "(200L,) (200L,)\n",
      "41.42\n"
     ]
    }
   ],
   "source": [
    "X_0 = np.array([x[0] for x in X_Train if x[len(x)-1]==0])\n",
    "X_1 = np.array([x[0] for x in X_Train if x[len(x)-1]==1])\n",
    "print (X_0).shape , (X_1).shape\n",
    "print X_Test[0][0]"
   ]
  },
  {
   "cell_type": "code",
   "execution_count": 15,
   "metadata": {
    "collapsed": false
   },
   "outputs": [
    {
     "name": "stdout",
     "output_type": "stream",
     "text": [
      "[ 29.78775  34.43025] [ 120.65719844  146.39534244]\n"
     ]
    }
   ],
   "source": [
    "def model_parameters(X0,X1,d=1):\n",
    "    \"\"\" Computes mean and variance \"\"\"\n",
    "    if d==1:\n",
    "        meanJ = np.array([np.mean(X0),np.mean(X1)])\n",
    "        sigmaJ = np.array([np.var(X0),np.var(X1)])\n",
    "    else:\n",
    "        meanJ = np.array([np.mean(X0,axis=0),np.mean(X1,axis=0)])\n",
    "        sigmaJ = np.array([np.cov(X0.T),np.cov(X1.T)])\n",
    "       \n",
    "    return meanJ,sigmaJ\n",
    "\n",
    "meanJ,sigmaJ = model_parameters(X_0,X_1)\n",
    "print meanJ,sigmaJ"
   ]
  },
  {
   "cell_type": "markdown",
   "metadata": {},
   "source": [
    "### Univariate Gaussian Discriminant \n",
    "\n",
    "$ g_j(X) = -log(\\sigma_j) - (X-\\mu_j)^2/\\sigma_j^2 + log(\\alpha_j) $ \n",
    "\n",
    "### Mulitvariate Gaussian Discriminant\n",
    "\n",
    "$ g_j(X) = -log(|\\sum_j|) - 1/2 (X-\\mu_j)^T \\sum^{-1}(X-\\mu_j) + log(\\alpha_j) $\n",
    "\n"
   ]
  },
  {
   "cell_type": "code",
   "execution_count": 16,
   "metadata": {
    "collapsed": false
   },
   "outputs": [],
   "source": [
    "def gaussian_Discriminant(X,mean,sigma,dim=1,prior_prob=0.5):\n",
    "    \"\"\"Based on the dim attribute Discriminant functions \n",
    "    for Univariate and Multivariate Distributions will be computed\"\"\"\n",
    "    \n",
    "    g=0.0\n",
    "    \n",
    "    if dim==1:\n",
    "        g = -np.log(sigma) - ((X - mean)**2/2*(sigma**2)) + np.log(prior_prob)\n",
    "    else: \n",
    "        \n",
    "        t = -np.log ( np.linalg.det(sigma))/2 \n",
    "        s = - 1/2 * np.dot(np.dot((X-mean).T,np.linalg.inv(sigma)),(X-mean)) + np.log(0.5)\n",
    "        g = t+s\n",
    "       \n",
    "    return g \n",
    "\n",
    "g_0 = gaussian_Discriminant(X_Test[0][0],meanJ[0],sigmaJ[0])\n",
    "g_1 = gaussian_Discriminant(X_Test[0][0],meanJ[1],sigmaJ[1])"
   ]
  },
  {
   "cell_type": "code",
   "execution_count": 17,
   "metadata": {
    "collapsed": true
   },
   "outputs": [],
   "source": [
    "def predict(X,meanJ,sigmaJ,dim=1):\n",
    "    \"\"\"Predicts the label based on the discriminant value based \n",
    "    on the memberships of all classes and choice the class with\n",
    "    Highest membership value\"\"\"\n",
    "    y=[]\n",
    "    \n",
    "    for eachx in X:\n",
    "        g=[]\n",
    "        for i in range(0,len(meanJ)): \n",
    "            gd = gaussian_Discriminant(eachx,meanJ[i],sigmaJ[i],dim=dim)\n",
    "          \n",
    "            g.append(gd)  \n",
    "        y.append(np.argmax(g))\n",
    "        \n",
    "    return y\n",
    "\n",
    "y_Cap = predict(X_Test[:,0],meanJ,sigmaJ)"
   ]
  },
  {
   "cell_type": "markdown",
   "metadata": {},
   "source": [
    "\n",
    "\n"
   ]
  },
  {
   "cell_type": "code",
   "execution_count": 18,
   "metadata": {
    "collapsed": false
   },
   "outputs": [
    {
     "name": "stdout",
     "output_type": "stream",
     "text": [
      "Confussion Matrix \n",
      "[[ 113.   44.]\n",
      " [  67.   29.]]\n"
     ]
    }
   ],
   "source": [
    "def confussion_matrix(y_cap,y,cls=1):\n",
    "    \"\"\" Compute the confussion matrix for the given predicted and actual classes \"\"\"\n",
    "    a=0\n",
    "    b=0\n",
    "    c=0\n",
    "    d=0\n",
    "    for i in range(0,len(y)):        \n",
    "        if y[i]==cls and y_cap[i] ==cls:\n",
    "            a+=1\n",
    "        elif y[i]!=cls and y_cap[i] ==cls:\n",
    "            c+=1\n",
    "        elif y[i]==cls and y_cap[i] !=cls:\n",
    "            b+=1\n",
    "        elif y[i]!=cls and y_cap[i] !=cls:\n",
    "            d+=1\n",
    "    return float(a),float(b),float(c),float(d)\n",
    "\n",
    "\n",
    "a,b,c,d = confussion_matrix(y_Cap,Y_Test,0)\n",
    "print \"Confussion Matrix \\n\", np.matrix([[a,b],[c,d]])"
   ]
  },
  {
   "cell_type": "code",
   "execution_count": 19,
   "metadata": {
    "collapsed": false
   },
   "outputs": [],
   "source": [
    "def evaluate_performance(y_Cap,y,cls):\n",
    "    \"\"\" Using the Confusion matrix , the metric like Accuracy , Precision , Recall , F square measures are computed \"\"\"\n",
    "    a,b,c,d = confussion_matrix(y_Cap,y,cls)\n",
    "    r =0 \n",
    "    p= 0\n",
    "    if a+b+c+d!=0:\n",
    "        print \"Accuracy \\t:\",(a+d)/(a+b+c+d)\n",
    "    else: \n",
    "        print \"Can't Compute Accurancy\"\n",
    "    if c+d !=0:\n",
    "        \n",
    "        r = (d)/(c+d)\n",
    "        print \"Recall  \\t:\",r\n",
    "        print \"False Negative \\t:\",c/(c+d)\n",
    "    else: \n",
    "        print \"Can't Compute Recall and False Negative\"\n",
    "        r=0\n",
    "    if b+d!=0:    \n",
    "        p = d/(b+d)\n",
    "        print \"Precision \\t:\",p\n",
    "    else: \n",
    "        print \"Can't Compute Precision \"\n",
    "        p=0\n",
    "    if a+b!=0:\n",
    "        print \"False Positive \\t:\",b/(a+b)\n",
    "        print \"True Negative \\t:\",a/(a+b)\n",
    "    else:\n",
    "         print \"Can't Compute False Positive and True Negatice\"\n",
    "    if p+r !=0:\n",
    "        print \"F Square \\t:\",2*(p*r)/(p+r)\n",
    "    else:\n",
    "        print\"Can't Compute F Square\"\n",
    "    return p,r"
   ]
  },
  {
   "cell_type": "code",
   "execution_count": 20,
   "metadata": {
    "collapsed": false,
    "scrolled": true
   },
   "outputs": [
    {
     "name": "stdout",
     "output_type": "stream",
     "text": [
      "Mean Squared Error 0.438735177866\n",
      "\n",
      "Evaluation Measures from Confusion Matrix for label 0.0 : \n",
      "Accuracy \t: 0.561264822134\n",
      "Recall  \t: 0.302083333333\n",
      "False Negative \t: 0.697916666667\n",
      "Precision \t: 0.397260273973\n",
      "False Positive \t: 0.28025477707\n",
      "True Negative \t: 0.71974522293\n",
      "F Square \t: 0.343195266272\n",
      "(0.3972602739726027, 0.3020833333333333)\n",
      "\n",
      "Evaluation Measures from Confusion Matrix for label 1.0 : \n",
      "Accuracy \t: 0.561264822134\n",
      "Recall  \t: 0.71974522293\n",
      "False Negative \t: 0.28025477707\n",
      "Precision \t: 0.627777777778\n",
      "False Positive \t: 0.697916666667\n",
      "True Negative \t: 0.302083333333\n",
      "F Square \t: 0.670623145401\n",
      "(0.6277777777777778, 0.7197452229299363)\n"
     ]
    }
   ],
   "source": [
    "print \"Mean Squared Error\" ,mean_squared_error(Y_Test,y_Cap)\n",
    "for i in np.unique(Y_Test):\n",
    "    print \"\\nEvaluation Measures from Confusion Matrix for label\",i ,\": \\n\" ,evaluate_performance(y_Cap,Y_Test,i)\n"
   ]
  },
  {
   "cell_type": "markdown",
   "metadata": {},
   "source": [
    "####We see that performance measures of the classifier is not good as only one feature is considered from a muli feature dataset"
   ]
  },
  {
   "cell_type": "markdown",
   "metadata": {},
   "source": [
    "# nD 2-Class Gaussian Discriminant Analysis\n",
    "### Data Preparation"
   ]
  },
  {
   "cell_type": "code",
   "execution_count": 21,
   "metadata": {
    "collapsed": false
   },
   "outputs": [],
   "source": [
    "X_multi_0=[]\n",
    "X_multi_1=[]\n",
    "for x in X_Train:    \n",
    "    if x[len(x)-1]==0:\n",
    "        X_multi_0.append(list(x[range(0,len(x)-1)]))\n",
    "    elif x[len(x)-1]==1:\n",
    "        X_multi_1.append(list(x[range(0,len(x)-1)])) \n",
    "\n",
    "X_multi_0 = np.array(X_multi_0)\n",
    "X_multi_1 = np.array(X_multi_1)"
   ]
  },
  {
   "cell_type": "markdown",
   "metadata": {},
   "source": [
    "### Mulitvariate Gaussian Discriminant\n",
    "\n",
    "$ g_j(X) = -log(|\\sum_j|) - 1/2 (X-\\mu_j)^T \\sum^{-1}(X-\\mu_j) + log(\\alpha_j) $"
   ]
  },
  {
   "cell_type": "code",
   "execution_count": 22,
   "metadata": {
    "collapsed": false
   },
   "outputs": [],
   "source": [
    "multi_meanJ,multi_sigmaJ = model_parameters(X_multi_0,X_multi_1,d=2)\n",
    "multi_y_cap  = predict(X_Test,multi_meanJ,multi_sigmaJ,dim=2 )"
   ]
  },
  {
   "cell_type": "code",
   "execution_count": 23,
   "metadata": {
    "collapsed": false
   },
   "outputs": [
    {
     "name": "stdout",
     "output_type": "stream",
     "text": [
      "Mean Squared Error 0.237154150198\n",
      "\n",
      " Evaluation Measures from Confusion Matrix for label  0.0 : \n",
      "\n",
      "Accuracy \t: 0.762845849802\n",
      "Recall  \t: 0.552083333333\n",
      "False Negative \t: 0.447916666667\n",
      "Precision \t: 0.757142857143\n",
      "False Positive \t: 0.108280254777\n",
      "True Negative \t: 0.891719745223\n",
      "F Square \t: 0.638554216867\n",
      "\n",
      " Evaluation Measures from Confusion Matrix for label  1.0 : \n",
      "\n",
      "Accuracy \t: 0.762845849802\n",
      "Recall  \t: 0.891719745223\n",
      "False Negative \t: 0.108280254777\n",
      "Precision \t: 0.765027322404\n",
      "False Positive \t: 0.447916666667\n",
      "True Negative \t: 0.552083333333\n",
      "F Square \t: 0.823529411765\n"
     ]
    }
   ],
   "source": [
    "print \"Mean Squared Error\" ,mean_squared_error(Y_Test,multi_y_cap)\n",
    "for i in np.unique(Y_Test):\n",
    "    print \"\\n Evaluation Measures from Confusion Matrix for label \", i, \": \\n\"\n",
    "    evaluate_performance(multi_y_cap,Y_Test,i)"
   ]
  },
  {
   "cell_type": "markdown",
   "metadata": {},
   "source": [
    "### We can see that the performace of the classifier has improved when move features were taken into consideration.  "
   ]
  },
  {
   "cell_type": "code",
   "execution_count": 26,
   "metadata": {
    "collapsed": false,
    "scrolled": false
   },
   "outputs": [],
   "source": [
    "def plot_Precision_recall(X_Test,Y_Test,multi_meanJ,multi_sigmaJ,dim=2):\n",
    "    \"\"\"Plot the Precision recall curve and find the area under the curve \"\"\"\n",
    "    length = X_Test.shape[0]\n",
    "  \n",
    "    perfold = 20\n",
    "    \n",
    "    n=1\n",
    "    data_pr=[]\n",
    "   \n",
    "    \n",
    "    while(n*perfold<=length):\n",
    "        y_c = predict(X_Test[:n*perfold],multi_meanJ,multi_sigmaJ,dim=2 )\n",
    "        p=[]\n",
    "        r=[]\n",
    "        for i in np.unique(Y_Test):\n",
    "            a,b,c,d = confussion_matrix(y_c,Y_Test[:n*perfold],i)\n",
    "            if c+d !=0 and b+d!=0:\n",
    "          \n",
    "                p.append(d/(c+d))\n",
    "                r.append(d/(b+d))\n",
    "            else:\n",
    "                p.append(0)\n",
    "                p.append(0)\n",
    "                \n",
    "                \n",
    "        data_pr.append([np.mean(r),np.mean(p)])    \n",
    "        n+=1\n",
    "        \n",
    "    data_pr= np.array(sorted(data_pr,key=lambda l:l[0]))\n",
    "    \n",
    "    plt.xlabel(\"Recall\")\n",
    "    plt.ylabel(\"Precision\")\n",
    "    plt.subplot(111)\n",
    "    \n",
    "    plt.grid(True)\n",
    "    \n",
    "    \n",
    "    plt.plot(data_pr[:,0],data_pr[:,1])\n",
    "    \n",
    "    print \"Area Under the PR Curve using Trapezium rule\",np.trapz(y=data_pr[:,1] )\n",
    "    return data_pr\n",
    "   \n"
   ]
  },
  {
   "cell_type": "code",
   "execution_count": 27,
   "metadata": {
    "collapsed": false
   },
   "outputs": [
    {
     "name": "stdout",
     "output_type": "stream",
     "text": [
      "Area Under the PR Curve using Trapezium rule 7.34445326274\n"
     ]
    },
    {
     "data": {
      "text/plain": [
       "array([[ 0.61783961,  0.625     ],\n",
       "       [ 0.62996032,  0.60755337],\n",
       "       [ 0.64420063,  0.62380383],\n",
       "       [ 0.66487455,  0.63690476],\n",
       "       [ 0.66666667,  0.64583333],\n",
       "       [ 0.67476489,  0.65583508],\n",
       "       [ 0.6978022 ,  0.68133224],\n",
       "       [ 0.70847652,  0.6995614 ],\n",
       "       [ 0.70968168,  0.69659443],\n",
       "       [ 0.73386825,  0.70873397],\n",
       "       [ 0.74825851,  0.7155578 ],\n",
       "       [ 0.75832698,  0.72048611]])"
      ]
     },
     "execution_count": 27,
     "metadata": {},
     "output_type": "execute_result"
    },
    {
     "data": {
      "image/png": "[encoded data removed]",
      "text/plain": [
       "<matplotlib.figure.Figure at 0xa57d978>"
      ]
     },
     "metadata": {},
     "output_type": "display_data"
    }
   ],
   "source": [
    "plot_Precision_recall(X_Test,Y_Test,multi_meanJ,multi_sigmaJ,dim=2)"
   ]
  },
  {
   "cell_type": "markdown",
   "metadata": {
    "collapsed": false
   },
   "source": [
    "#nD k-Class Gaussian Discriminant Analysis"
   ]
  },
  {
   "cell_type": "markdown",
   "metadata": {},
   "source": [
    "Compute the mean and variance of samples with y=0 and y= 1 separately on X_Train\n",
    "\n",
    "$ \\mu _j = 1/m_j\\sum_{i=1}^{m_j}I(Y^j = i)  X^{(i)} $\n",
    "\n",
    "$ \\sum_j =  1/m_j\\sum_{i=1}^{m_j} (X^{(i)}-\\mu_j) (X^{(i)}-\\mu_j)^T $ "
   ]
  },
  {
   "cell_type": "code",
   "execution_count": 28,
   "metadata": {
    "collapsed": false
   },
   "outputs": [],
   "source": [
    "data_nk = getdata_CSV(\"../data/cleveland.csv\")"
   ]
  },
  {
   "cell_type": "code",
   "execution_count": 29,
   "metadata": {
    "collapsed": false
   },
   "outputs": [],
   "source": [
    "reqd_cols = [0,2,3,4,7,9,13]\n",
    "X_Train = data_nk[:,reqd_cols][:200]\n",
    "Y_Train = X_Train[:,6]\n",
    "X_Train = np.delete(X_Train,-1,1)\n",
    "\n",
    "X_Test = data_nk[:,reqd_cols][200:]\n",
    "\n",
    "Y_acc = X_Test[:,6] \n",
    "X_Test = np.delete(X_Test,-1,1)\n",
    "\n"
   ]
  },
  {
   "cell_type": "code",
   "execution_count": 30,
   "metadata": {
    "collapsed": false
   },
   "outputs": [],
   "source": [
    "X=[]\n",
    "X= [X_Train[Y_Train==k] for k in np.unique(Y_Train)]\n",
    "X=np.array(X)\n"
   ]
  },
  {
   "cell_type": "code",
   "execution_count": 31,
   "metadata": {
    "collapsed": true
   },
   "outputs": [],
   "source": [
    "def kcalss_param(X):\n",
    "    \"\"\" Compute the  K class parameters like Mu and Sigma using the formula given above\"\"\"\n",
    "    mean=[]\n",
    "    sigma=[]\n",
    "    for i in range(0,len(X)-1):\n",
    "        mean.append(np.array(np.mean(X[i],axis=0)))\n",
    "        \n",
    "        sigma.append(np.array(np.cov(X[i].T)))\n",
    "     \n",
    "    return np.array(mean) , np.array(sigma)\n",
    "\n",
    "kmean,ksigma = kcalss_param(X)"
   ]
  },
  {
   "cell_type": "code",
   "execution_count": 32,
   "metadata": {
    "collapsed": false
   },
   "outputs": [],
   "source": [
    "kmulti_y_cap = predict(X_Test,kmean,ksigma,dim=4)"
   ]
  },
  {
   "cell_type": "code",
   "execution_count": 33,
   "metadata": {
    "collapsed": false
   },
   "outputs": [
    {
     "name": "stdout",
     "output_type": "stream",
     "text": [
      "Mean Squared Error 1.36082474227\n",
      "\n",
      " Evaluation Measures from Confusion Matrix for label 0.0 : \n",
      "\n",
      "Accuracy \t: 0.701030927835\n",
      "Recall  \t: 0.702127659574\n",
      "False Negative \t: 0.297872340426\n",
      "Precision \t: 0.6875\n",
      "False Positive \t: 0.3\n",
      "True Negative \t: 0.7\n",
      "F Square \t: 0.694736842105\n",
      "\n",
      " Evaluation Measures from Confusion Matrix for label 1.0 : \n",
      "\n",
      "Accuracy \t: 0.711340206186\n",
      "Recall  \t: 0.8125\n",
      "False Negative \t: 0.1875\n",
      "Precision \t: 0.833333333333\n",
      "False Positive \t: 0.764705882353\n",
      "True Negative \t: 0.235294117647\n",
      "F Square \t: 0.822784810127\n",
      "\n",
      " Evaluation Measures from Confusion Matrix for label 2.0 : \n",
      "\n",
      "Accuracy \t: 0.752577319588\n",
      "Recall  \t: 0.853658536585\n",
      "False Negative \t: 0.146341463415\n",
      "Precision \t: 0.853658536585\n",
      "False Positive \t: 0.8\n",
      "True Negative \t: 0.2\n",
      "F Square \t: 0.853658536585\n",
      "\n",
      " Evaluation Measures from Confusion Matrix for label 3.0 : \n",
      "\n",
      "Accuracy \t: 0.835051546392\n",
      "Recall  \t: 0.894117647059\n",
      "False Negative \t: 0.105882352941\n",
      "Precision \t: 0.915662650602\n",
      "False Positive \t: 0.583333333333\n",
      "True Negative \t: 0.416666666667\n",
      "F Square \t: 0.904761904762\n",
      "\n",
      " Evaluation Measures from Confusion Matrix for label 4.0 : \n",
      "\n",
      "Accuracy \t: 0.969072164948\n",
      "Recall  \t: 1.0\n",
      "False Negative \t: 0.0\n",
      "Precision \t: 0.969072164948\n",
      "False Positive \t: 1.0\n",
      "True Negative \t: 0.0\n",
      "F Square \t: 0.984293193717\n"
     ]
    }
   ],
   "source": [
    "print \"Mean Squared Error\" ,mean_squared_error(Y_acc,kmulti_y_cap)\n",
    "for i in np.unique(Y_acc):\n",
    "    print \"\\n Evaluation Measures from Confusion Matrix for label\",i,\": \\n\"\n",
    "    evaluate_performance(kmulti_y_cap ,Y_acc,i)"
   ]
  },
  {
   "cell_type": "code",
   "execution_count": 34,
   "metadata": {
    "collapsed": false
   },
   "outputs": [
    {
     "name": "stdout",
     "output_type": "stream",
     "text": [
      "Area Under the PR Curve using Trapezium rule 2.59695267732\n"
     ]
    },
    {
     "data": {
      "text/plain": [
       "array([[ 0.85091503,  0.86480159],\n",
       "       [ 0.85290563,  0.85697479],\n",
       "       [ 0.86135215,  0.86437071],\n",
       "       [ 0.88109388,  0.88641278]])"
      ]
     },
     "execution_count": 34,
     "metadata": {},
     "output_type": "execute_result"
    },
    {
     "data": {
      "image/png": "[encoded data removed]",
      "text/plain": [
       "<matplotlib.figure.Figure at 0xa658ef0>"
      ]
     },
     "metadata": {},
     "output_type": "display_data"
    }
   ],
   "source": [
    "plot_Precision_recall(X_Test,Y_acc,kmean,ksigma,dim=4)"
   ]
  },
  {
   "cell_type": "markdown",
   "metadata": {},
   "source": [
    "## NB - Bernouli \n",
    "\n",
    "\n"
   ]
  },
  {
   "cell_type": "code",
   "execution_count": 49,
   "metadata": {
    "collapsed": false
   },
   "outputs": [
    {
     "name": "stdout",
     "output_type": "stream",
     "text": [
      "\n"
     ]
    }
   ],
   "source": [
    "def get_data(filename,reqd_cols,train_size=400,test_size=200):\n",
    "    \"\"\"Data Preparation , read CSV data set and spli them into Testing and Training Data sets. \"\"\"\n",
    "    data_nBB = getdata_CSV(filename)\n",
    "    \n",
    "    nBB_X_Train = data_nBB[:,reqd_cols][:train_size]\n",
    "    nBB_Y_Train = nBB_X_Train[:,len(reqd_cols)-1]\n",
    "    nBB_X_Train = np.delete(nBB_X_Train,-1,1)\n",
    "\n",
    "    nBB_X_Test = data_nBB[:,reqd_cols][train_size:train_size+test_size]\n",
    "\n",
    "    nBB_Y_acc = nBB_X_Test[:,len(reqd_cols)-1] \n",
    "    nBB_X_Test = np.delete(nBB_X_Test,-1,1)\n",
    "    return nBB_X_Train,nBB_Y_Train,nBB_X_Test,nBB_Y_acc\n",
    "\n",
    "reqd_cols = [0,4,8,9,11,12,15]\n",
    "nBB_X_Train,nBB_Y_Train,nBB_X_Test,nBB_Y_acc = get_data(\"../data/credit_Score.csv\",reqd_cols)"
   ]
  },
  {
   "cell_type": "code",
   "execution_count": 50,
   "metadata": {
    "collapsed": false
   },
   "outputs": [
    {
     "data": {
      "text/plain": [
       "(400L, 6L)"
      ]
     },
     "execution_count": 50,
     "metadata": {},
     "output_type": "execute_result"
    }
   ],
   "source": [
    "nBB_X_Train.shape"
   ]
  },
  {
   "cell_type": "code",
   "execution_count": 51,
   "metadata": {
    "collapsed": false
   },
   "outputs": [
    {
     "data": {
      "text/plain": [
       "200"
      ]
     },
     "execution_count": 51,
     "metadata": {},
     "output_type": "execute_result"
    }
   ],
   "source": [
    "len(nBB_Y_acc)"
   ]
  },
  {
   "cell_type": "markdown",
   "metadata": {},
   "source": [
    "###Model Parameters\n",
    "\n",
    "$ \\alpha_{p | y=1} = 1/m_j\\sum_{i=1}^{m_j} X_p^i $\n",
    "\n",
    "$ Prior_i = 1/m_j\\sum_{i=1}^{m_j}I(Y^j = i) $"
   ]
  },
  {
   "cell_type": "code",
   "execution_count": 41,
   "metadata": {
    "collapsed": false
   },
   "outputs": [],
   "source": [
    "def model_params_NB_Bernoulli(nBB_X_Train,nBB_Y_Train):\n",
    "    alpha_1 =  sum((nBB_X_Train[nBB_Y_Train==1]))/nBB_X_Train[nBB_Y_Train==1].shape[0]\n",
    "    prior1 = float(nBB_X_Train[nBB_Y_Train==1].shape[0])/len(nBB_X_Train)\n",
    "    \n",
    "    return alpha_1,1-alpha_1,prior1 ,1-prior1 \n",
    "\n",
    "    "
   ]
  },
  {
   "cell_type": "code",
   "execution_count": 42,
   "metadata": {
    "collapsed": false
   },
   "outputs": [],
   "source": [
    "alpha_1,alpha_2,prior_1,prior_2 = model_params_NB_Bernoulli(nBB_X_Train,nBB_Y_Train)"
   ]
  },
  {
   "cell_type": "markdown",
   "metadata": {},
   "source": [
    "\n",
    "###Membership Function using Log Likelihood \n",
    "$ \\sum_{i=1}^{n}( X_j log(\\alpha_{j/y=i} ) + (1-X_j) log(1-\\alpha_j/y=i)) + log(\\alpha_j) $ "
   ]
  },
  {
   "cell_type": "code",
   "execution_count": 54,
   "metadata": {
    "collapsed": false
   },
   "outputs": [],
   "source": [
    "def predict_NB_Bernoulli(X_Test,alpha_1,alpha_2):\n",
    "    y_cap=[]\n",
    "    for x in X_Test:\n",
    "        g0 = sum(x*np.log(alpha_1) + (1-x)*np.log(alpha_2)) + np.log(prior_1)\n",
    "        g1 = sum(x*np.log(alpha_2) + (1-x)*np.log(alpha_1)) + np.log(prior_2)\n",
    "\n",
    "        if g0-g1 > 0:\n",
    "            y_cap.append(g0)\n",
    "        else:\n",
    "            y_cap.append(g1)\n",
    "    return y_cap\n",
    "\n",
    "nBB_Y_Cap = predict_NB_Bernoulli(nBB_X_Test,alpha_1,alpha_2) \n",
    "\n",
    "    "
   ]
  },
  {
   "cell_type": "code",
   "execution_count": 56,
   "metadata": {
    "collapsed": false
   },
   "outputs": [
    {
     "name": "stdout",
     "output_type": "stream",
     "text": [
      "Mean Squared Error 26.9736484645\n",
      "\n",
      " Evaluation Measures from Confusion Matrix for label 0.0 : \n",
      "\n",
      "Accuracy \t: 0.42\n",
      "Recall  \t: 1.0\n",
      "False Negative \t: 0.0\n",
      "Precision \t: 0.42\n",
      "False Positive \t: 1.0\n",
      "True Negative \t: 0.0\n",
      "F Square \t: 0.591549295775\n",
      "\n",
      " Evaluation Measures from Confusion Matrix for label 1.0 : \n",
      "\n",
      "Accuracy \t: 0.58\n",
      "Recall  \t: 1.0\n",
      "False Negative \t: 0.0\n",
      "Precision \t: 0.58\n",
      "False Positive \t: 1.0\n",
      "True Negative \t: 0.0\n",
      "F Square \t: 0.73417721519\n"
     ]
    }
   ],
   "source": [
    "print \"Mean Squared Error\" ,mean_squared_error(nBB_Y_acc,nBB_Y_Cap)\n",
    "for i in np.unique(nBB_Y_acc):\n",
    "    print \"\\n Evaluation Measures from Confusion Matrix for label\",i,\": \\n\" \n",
    "    evaluate_performance(nBB_Y_Cap,nBB_Y_acc,i)"
   ]
  },
  {
   "cell_type": "markdown",
   "metadata": {},
   "source": [
    "##NB- Binomial "
   ]
  },
  {
   "cell_type": "code",
   "execution_count": 57,
   "metadata": {
    "collapsed": false
   },
   "outputs": [],
   "source": [
    "reqd_cols = range(2,56)\n",
    "nBBi_X_Train,nBBi_Y_Train,nBBi_X_Test,nBBi_Y_acc = get_data(\"../data/spambase.csv\",reqd_cols)"
   ]
  },
  {
   "cell_type": "markdown",
   "metadata": {},
   "source": [
    "$\\alpha_{j/y=l} =  (\\sum_{i=1}^m I(Y^i = l)X_j^i)/(\\sum_{i=1}^m I(Y^i = l)P^i)  $"
   ]
  },
  {
   "cell_type": "code",
   "execution_count": 58,
   "metadata": {
    "collapsed": false
   },
   "outputs": [],
   "source": [
    "def NB_Binomial_params(nBBi_X_Train,nBBi_Y_Train,cls):\n",
    "    dr=0\n",
    "    for i in range(0,len(nBBi_Y_Train)-1):\n",
    "        if(nBBi_Y_Train[i]==cls):\n",
    "            dr += sum(nBBi_X_Train[i])\n",
    "    alpha =  sum((nBBi_X_Train[nBBi_Y_Train==cls]))/dr\n",
    "    return alpha\n",
    "\n",
    "alpha_0 = NB_Binomial_params(nBBi_X_Train,nBBi_Y_Train,0)\n",
    "alpha_1 = NB_Binomial_params(nBBi_X_Train,nBBi_Y_Train,1)\n"
   ]
  },
  {
   "cell_type": "code",
   "execution_count": 59,
   "metadata": {
    "collapsed": false
   },
   "outputs": [],
   "source": [
    "def compute_prior(nBBi_X_Train,nBBi_Y_Train):\n",
    "    \"\"\"Computes the prior probabilites for each class \"\"\"\n",
    "    prior_0 =  1.*nBBi_X_Train[nBBi_Y_Train==0].shape[0]/nBBi_X_Train.shape[0]\n",
    "    prior_1 =  1.*nBBi_X_Train[nBBi_Y_Train==1].shape[0]/nBBi_X_Train.shape[0]\n",
    "    return prior_0,prior_1\n",
    "\n",
    "prior_0,prior_1 = compute_prior(nBBi_X_Train,nBBi_Y_Train)"
   ]
  },
  {
   "cell_type": "markdown",
   "metadata": {},
   "source": [
    "###Membership Function\n",
    "\n",
    "$ g_l(X) = \\sum_{j=1}^n log( \\binom{P}{X_j} \\alpha_{j/y=l}^{X_j}  (1- \\alpha_{j/y=l})^{p-X_j}  )  + log(\\alpha_l)$\n",
    "\n",
    "Classification: \n",
    "$ \\hat{y} = \\arg\\max_l g_l(X) $\n"
   ]
  },
  {
   "cell_type": "code",
   "execution_count": 60,
   "metadata": {
    "collapsed": false
   },
   "outputs": [
    {
     "name": "stderr",
     "output_type": "stream",
     "text": [
      "C:\\Users\\Goutham\\Anaconda\\lib\\site-packages\\IPython\\kernel\\__main__.py:12: RuntimeWarning: divide by zero encountered in log\n",
      "C:\\Users\\Goutham\\Anaconda\\lib\\site-packages\\IPython\\kernel\\__main__.py:11: RuntimeWarning: divide by zero encountered in log\n",
      "C:\\Users\\Goutham\\Anaconda\\lib\\site-packages\\IPython\\kernel\\__main__.py:13: RuntimeWarning: invalid value encountered in double_scalars\n"
     ]
    }
   ],
   "source": [
    "#Predict - need to make it as an function\n",
    "def nBBi_Predict(nBBi_X_Test,alpha_0,alpha_1,prior_0,prior_1): \n",
    "    y=[]\n",
    "    for x in nBBi_X_Test:\n",
    "        g_0=0\n",
    "        g_1=0\n",
    "        p=sum(x)\n",
    "\n",
    "        for i in range(0,len(x)-1):\n",
    "            \n",
    "            g_0 += np.log(math.factorial(p)/math.factorial(x[i])*(alpha_0[i]**x[i])*((1-alpha_0[i])**(p-x[i]))) + prior_0 \n",
    "            g_1 += np.log(math.factorial(p)/math.factorial(x[i])*(alpha_1[i]**x[i])*((1-alpha_1[i])**(p-x[i]))) + prior_1\n",
    "        if g_0-g_1 > 0:\n",
    "             y.append(0)\n",
    "        else:\n",
    "            y.append(1)\n",
    "    return y\n",
    "        \n",
    "\n",
    "y_cap = nBBi_Predict(nBBi_X_Test,alpha_0,alpha_1,prior_0,prior_1)\n",
    "\n",
    "                      "
   ]
  },
  {
   "cell_type": "code",
   "execution_count": 61,
   "metadata": {
    "collapsed": false
   },
   "outputs": [
    {
     "name": "stdout",
     "output_type": "stream",
     "text": [
      "Mean Squared Error 0.15\n",
      "\n",
      " Evaluation Measures from Confusion Matrix for label 0.0 : \n",
      "\n",
      "Accuracy \t: 0.85\n",
      "Recall  \t: 0.626666666667\n",
      "False Negative \t: 0.373333333333\n",
      "Precision \t: 0.959183673469\n",
      "False Positive \t: 0.016\n",
      "True Negative \t: 0.984\n",
      "F Square \t: 0.758064516129\n",
      "\n",
      " Evaluation Measures from Confusion Matrix for label 1.0 : \n",
      "\n",
      "Accuracy \t: 0.85\n",
      "Recall  \t: 0.984\n",
      "False Negative \t: 0.016\n",
      "Precision \t: 0.814569536424\n",
      "False Positive \t: 0.373333333333\n",
      "True Negative \t: 0.626666666667\n",
      "F Square \t: 0.891304347826\n"
     ]
    }
   ],
   "source": [
    "print \"Mean Squared Error\" ,mean_squared_error(nBBi_Y_acc,y_cap)\n",
    "for i in np.unique(nBBi_Y_acc):\n",
    "    print \"\\n Evaluation Measures from Confusion Matrix for label\",i,\": \\n\" \n",
    "    evaluate_performance(y_cap,nBBi_Y_acc,i)"
   ]
  },
  {
   "cell_type": "code",
   "execution_count": null,
   "metadata": {
    "collapsed": true
   },
   "outputs": [],
   "source": []
  },
  {
   "cell_type": "code",
   "execution_count": null,
   "metadata": {
    "collapsed": true
   },
   "outputs": [],
   "source": []
  }
 ],
 "metadata": {
  "kernelspec": {
   "display_name": "Python 2",
   "language": "python",
   "name": "python2"
  },
  "language_info": {
   "codemirror_mode": {
    "name": "ipython",
    "version": 2
   },
   "file_extension": ".py",
   "mimetype": "text/x-python",
   "name": "python",
   "nbconvert_exporter": "python",
   "pygments_lexer": "ipython2",
   "version": "2.7.10"
  }
 },
 "nbformat": 4,
 "nbformat_minor": 0
}
