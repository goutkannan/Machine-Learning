{
 "cells": [
  {
   "cell_type": "code",
   "execution_count": 1,
   "metadata": {
    "collapsed": true
   },
   "outputs": [],
   "source": [
    "import matplotlib.pyplot as plt\n",
    "import math\n",
    "%matplotlib inline\n",
    "import numpy as np\n",
    "from sklearn.preprocessing import PolynomialFeatures\n",
    "from scipy.spatial.distance import pdist, squareform\n",
    "import scipy\n",
    "import timeit"
   ]
  },
  {
   "cell_type": "markdown",
   "metadata": {},
   "source": [
    "### Calculating the Sigmoid\n",
    "$f(x) = 1/{1+\\exp^{-\\theta.T . x}} $"
   ]
  },
  {
   "cell_type": "code",
   "execution_count": 91,
   "metadata": {
    "collapsed": false
   },
   "outputs": [],
   "source": [
    "def sigmoid(theta,x):\n",
    "    return scipy.special.expit(np.dot(theta, x))"
   ]
  },
  {
   "cell_type": "markdown",
   "metadata": {},
   "source": [
    "## $\\theta_j = \\theta_j - \\eta * (\\hat{y^i} - y)X^i $"
   ]
  },
  {
   "cell_type": "code",
   "execution_count": 99,
   "metadata": {
    "collapsed": false
   },
   "outputs": [],
   "source": [
    "def gradientDescent(x, y, theta, etta,numIterations=500):\n",
    "    print theta.shape,x.shape\n",
    "    \n",
    "    loss= np.random.rand(len(theta))/100\n",
    "    for i in range(0, numIterations):\n",
    "        for j in range(0,len(y)):\n",
    "            loss += np.dot(sigmoid(theta,x[j])-y[j] ,x[j])   \n",
    "        theta = theta - (etta * loss)\n",
    "    \n",
    "    return theta"
   ]
  },
  {
   "cell_type": "code",
   "execution_count": 100,
   "metadata": {
    "collapsed": false
   },
   "outputs": [],
   "source": [
    "def getdata_CSV(filename):\n",
    "    return np.genfromtxt(filename,delimiter=\",\")\n",
    "\n",
    "data1 = getdata_CSV(\"credit_Score.csv\")"
   ]
  },
  {
   "cell_type": "code",
   "execution_count": 101,
   "metadata": {
    "collapsed": true
   },
   "outputs": [],
   "source": [
    "def mean_squared_error(y,y_cap):\n",
    "    \"\"\" Computes the mean squared Error\"\"\"\n",
    "    errors = 0\n",
    "    for i in range(0,len(y)):        \n",
    "        errors = errors + (y_cap[i] -y[i])**2\n",
    "        \n",
    "    return errors.sum()/len(y)"
   ]
  },
  {
   "cell_type": "code",
   "execution_count": 102,
   "metadata": {
    "collapsed": false,
    "scrolled": true
   },
   "outputs": [
    {
     "name": "stdout",
     "output_type": "stream",
     "text": [
      "(3L,) (500L, 3L)\n"
     ]
    }
   ],
   "source": [
    "x = data1[:,0:3][:500]\n",
    "y = data1[:,15][:500]\n",
    "theta = np.array([0,0,0],dtype=np.float64)\n",
    "\n",
    "theta = gradientDescent(x,y,theta,0.000000002,820)\n",
    "\n",
    "\n",
    "x_Test = data1[:,0:3][500:]\n",
    "y_acc = data1[:,15][500:]\n",
    "\n",
    "        "
   ]
  },
  {
   "cell_type": "code",
   "execution_count": 140,
   "metadata": {
    "collapsed": false,
    "scrolled": true
   },
   "outputs": [],
   "source": [
    "def predict(theta,x):\n",
    "    y_predict=[]\n",
    "    for x_i in x:\n",
    "        ht = sigmoid(theta,x_i)\n",
    "\n",
    "        if ht >= 0.5:\n",
    "            y_predict.append(1)\n",
    "        else:\n",
    "            y_predict.append(0)\n",
    "    return y_predict\n",
    "\n",
    "y_predict = predict(theta,x_Test)"
   ]
  },
  {
   "cell_type": "code",
   "execution_count": 108,
   "metadata": {
    "collapsed": false
   },
   "outputs": [
    {
     "data": {
      "text/plain": [
       "0.37254901960784315"
      ]
     },
     "execution_count": 108,
     "metadata": {},
     "output_type": "execute_result"
    }
   ],
   "source": [
    "mean_squared_error(y_acc , y_predict)"
   ]
  },
  {
   "cell_type": "code",
   "execution_count": 109,
   "metadata": {
    "collapsed": false
   },
   "outputs": [],
   "source": [
    "def evaluate_performance(y_Cap,y,cls):\n",
    "    \"\"\" Using the Confusion matrix , the metric like Accuracy , Precision , Recall , F square measures are computed \"\"\"\n",
    "    a,b,c,d = confussion_matrix(y_Cap,y,cls)\n",
    "    r =0 \n",
    "    p= 0\n",
    "    if a+b+c+d!=0:\n",
    "        print \"Accuracy \\t:\",(a+d)/(a+b+c+d)\n",
    "    else: \n",
    "        print \"Can't Compute Accurancy\"\n",
    "    if c+d !=0:\n",
    "        \n",
    "        r = (d)/(c+d)\n",
    "        print \"Recall  \\t:\",r\n",
    "        print \"False Negative \\t:\",c/(c+d)\n",
    "    else: \n",
    "        print \"Can't Compute Recall and False Negative\"\n",
    "        r=0\n",
    "    if b+d!=0:    \n",
    "        p = d/(b+d)\n",
    "        print \"Precision \\t:\",p\n",
    "    else: \n",
    "        print \"Can't Compute Precision \"\n",
    "        p=0\n",
    "    if a+b!=0:\n",
    "        print \"False Positive \\t:\",b/(a+b)\n",
    "        print \"True Negative \\t:\",a/(a+b)\n",
    "    else:\n",
    "         print \"Can't Compute False Positive and True Negatice\"\n",
    "    if p+r !=0:\n",
    "        print \"F Square \\t:\",2*(p*r)/(p+r)\n",
    "    else:\n",
    "        print\"Can't Compute F Square\"\n",
    "    return p,r\n"
   ]
  },
  {
   "cell_type": "code",
   "execution_count": 111,
   "metadata": {
    "collapsed": false
   },
   "outputs": [],
   "source": [
    "def confussion_matrix(y_cap,y,cls=1):\n",
    "    \"\"\" Compute the confussion matrix for the given predicted and actual classes \"\"\"\n",
    "    a=0\n",
    "    b=0\n",
    "    c=0\n",
    "    d=0\n",
    "    for i in range(0,len(y)):        \n",
    "        if y[i]==cls and y_cap[i] ==cls:\n",
    "            a+=1\n",
    "        elif y[i]!=cls and y_cap[i] ==cls:\n",
    "            c+=1\n",
    "        elif y[i]==cls and y_cap[i] !=cls:\n",
    "            b+=1\n",
    "        elif y[i]!=cls and y_cap[i] !=cls:\n",
    "            d+=1\n",
    "    return float(a),float(b),float(c),float(d)\n",
    "\n",
    "\n",
    "a,b,c,d = confussion_matrix(y_predict, y_acc,1)\n",
    "        "
   ]
  },
  {
   "cell_type": "code",
   "execution_count": 114,
   "metadata": {
    "collapsed": false
   },
   "outputs": [
    {
     "name": "stdout",
     "output_type": "stream",
     "text": [
      "Evaluation----------------\n",
      "Mean Squared Error 0.372549019608\n",
      "Accuracy \t: 0.627450980392\n",
      "Recall  \t: 0.737373737374\n",
      "False Negative \t: 0.262626262626\n",
      "Precision \t: 0.701923076923\n",
      "False Positive \t: 0.574074074074\n",
      "True Negative \t: 0.425925925926\n",
      "F Square \t: 0.71921182266\n",
      "(0.7019230769230769, 0.7373737373737373)\n"
     ]
    }
   ],
   "source": [
    "print \"Evaluation----------------\" \n",
    "print \"Mean Squared Error\",mean_squared_error(y_acc , y_predict)\n",
    "\n",
    "print evaluate_performance( y_predict,y_acc,1 )"
   ]
  },
  {
   "cell_type": "markdown",
   "metadata": {},
   "source": [
    "##Experiment with Higher Powers of Features"
   ]
  },
  {
   "cell_type": "code",
   "execution_count": 122,
   "metadata": {
    "collapsed": true
   },
   "outputs": [],
   "source": [
    "def X_to_Z(x,power):\n",
    "    \"\"\"The Feature Vector matrix is mapped to any specified Degree  \"\"\"\n",
    "    poly = PolynomialFeatures(power)\n",
    "    Z = poly.fit_transform(x.reshape(len(x),x[1].size))\n",
    "    return Z"
   ]
  },
  {
   "cell_type": "code",
   "execution_count": 129,
   "metadata": {
    "collapsed": false
   },
   "outputs": [],
   "source": [
    "Z_Train =  X_to_Z(x,2)\n",
    "Z_Test = X_to_Z(x_Test,2)"
   ]
  },
  {
   "cell_type": "code",
   "execution_count": 143,
   "metadata": {
    "collapsed": false
   },
   "outputs": [
    {
     "name": "stdout",
     "output_type": "stream",
     "text": [
      "(10L,) (500L, 10L)\n"
     ]
    }
   ],
   "source": [
    "Ztheata = np.zeros(Z_Train.shape[1])\n",
    "Ztheata = gradientDescent(Z_Train,y,Ztheata,0.0000002,20)\n",
    "Zpredict = predict(Ztheata,Z_Test)"
   ]
  },
  {
   "cell_type": "code",
   "execution_count": 144,
   "metadata": {
    "collapsed": false
   },
   "outputs": [
    {
     "name": "stdout",
     "output_type": "stream",
     "text": [
      "Accuracy \t: 0.352941176471\n",
      "Recall  \t: 0.0\n",
      "False Negative \t: 1.0\n",
      "Can't Compute Precision \n",
      "False Positive \t: 0.0\n",
      "True Negative \t: 1.0\n",
      "Can't Compute F Square\n",
      "(0, 0.0)\n"
     ]
    }
   ],
   "source": [
    "print evaluate_performance( Zpredict,y_acc,1 )\n"
   ]
  },
  {
   "cell_type": "code",
   "execution_count": null,
   "metadata": {
    "collapsed": true
   },
   "outputs": [],
   "source": []
  }
 ],
 "metadata": {
  "kernelspec": {
   "display_name": "Python 2",
   "language": "python",
   "name": "python2"
  },
  "language_info": {
   "codemirror_mode": {
    "name": "ipython",
    "version": 2
   },
   "file_extension": ".py",
   "mimetype": "text/x-python",
   "name": "python",
   "nbconvert_exporter": "python",
   "pygments_lexer": "ipython2",
   "version": "2.7.10"
  }
 },
 "nbformat": 4,
 "nbformat_minor": 0
}
