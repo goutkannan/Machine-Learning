{
 "cells": [
  {
   "cell_type": "code",
   "execution_count": 84,
   "metadata": {
    "collapsed": true
   },
   "outputs": [],
   "source": [
    "from collections import Counter\n",
    "import glob\n",
    "import hashlib\n",
    "import io\n",
    "import math\n",
    "from math import exp\n",
    "import matplotlib.pyplot as plt\n",
    "import numpy as np\n",
    "import os\n",
    "import re\n",
    "from sklearn.cross_validation import KFold\n",
    "from sklearn.feature_extraction.text import CountVectorizer\n",
    "from sklearn.linear_model import LogisticRegression\n",
    "from sklearn.metrics import accuracy_score\n",
    "import tarfile\n",
    "from urllib import urlretrieve\n",
    "%matplotlib inline\n",
    "from stemming.porter2 import stem\n",
    "import numpy as np\n",
    "import cvxopt\n",
    "from cvxopt import solvers, matrix\n",
    "import operator\n",
    "from sklearn import metrics\n",
    "import random\n",
    "import matplotlib.pyplot as plt\n",
    "import numpy as np\n",
    "from matplotlib.colors import ListedColormap\n",
    "from sklearn import preprocessing\n",
    "%matplotlib inline\n",
    "import math\n",
    "from scipy.spatial.distance import pdist,squareform\n",
    "from sklearn.preprocessing import PolynomialFeatures\n",
    "import timeit\n",
    "import nltk\n",
    "from sklearn.naive_bayes import GaussianNB"
   ]
  },
  {
   "cell_type": "markdown",
   "metadata": {},
   "source": [
    "\n",
    " \n"
   ]
  },
  {
   "cell_type": "code",
   "execution_count": 85,
   "metadata": {
    "collapsed": true
   },
   "outputs": [],
   "source": [
    "def get_files(path):\n",
    "    \"\"\" Return a list of file names in this directory that end in .txt \n",
    "    The list should be sorted alphabetically by file name.\n",
    "    Params:\n",
    "        path....a directory containing .txt review files.\n",
    "    Returns:\n",
    "        a list of .txt file names, sorted alphabetically.\n",
    "    \"\"\"\n",
    "    \n",
    "    text_files = [os.path.join(path,f) for f in os.listdir(path) if f.endswith('.txt')]\n",
    "    \n",
    "    return sorted(text_files)"
   ]
  },
  {
   "cell_type": "code",
   "execution_count": 86,
   "metadata": {
    "collapsed": false
   },
   "outputs": [],
   "source": [
    "def get_true_labels(file_names):\n",
    "    \"\"\"Return a *numpy array* of ints for the true sentiment labels of each file.\n",
    "    1 means positive, 0 means negative. Use the name of the file to determine\n",
    "    the true label.\n",
    "    Params:\n",
    "        file_names....a list of .txt file paths, e.g., data/train/pos/10057_9.txt\n",
    "    Returns:\n",
    "        a numpy array of 1 or 0 values corresponding to each element\n",
    "        of file_names, where 1 indicates a positive review, and 0\n",
    "        indicates a negative review.\n",
    "    \"\"\"\n",
    "   \n",
    "    senti=[]\n",
    "    for files in file_names:\n",
    "        if re.search(\"pos\",files):\n",
    "            senti.extend([1])\n",
    "        else:\n",
    "            senti.extend([0])\n",
    "    return np.array(senti)    \n",
    "\n"
   ]
  },
  {
   "cell_type": "code",
   "execution_count": 87,
   "metadata": {
    "collapsed": true
   },
   "outputs": [],
   "source": [
    "# Part of Speach tagging for feature selection\n",
    "POS = ['JJ','JJR','MD','PDT','RB','RBR','RP','VB','VBP','VBD','VBG','VBN','VBZ']"
   ]
  },
  {
   "cell_type": "code",
   "execution_count": 88,
   "metadata": {
    "collapsed": false
   },
   "outputs": [],
   "source": [
    "# Here's what a positive review looks like.\n",
    "def file2string(filename):\n",
    "    return io.open(filename, encoding='utf8').readlines()[0]"
   ]
  },
  {
   "cell_type": "code",
   "execution_count": 89,
   "metadata": {
    "collapsed": false
   },
   "outputs": [
    {
     "data": {
      "text/plain": [
       "['think',\n",
       " 'is',\n",
       " 'perfect',\n",
       " 'exploring',\n",
       " 'first',\n",
       " 'all',\n",
       " 'emotional',\n",
       " 'involved',\n",
       " 'second']"
      ]
     },
     "execution_count": 89,
     "metadata": {},
     "output_type": "execute_result"
    }
   ],
   "source": [
    "def tokenize_with_POS(text):\n",
    "    \"\"\"Given a string, return a list of tokens such that: (1) all\n",
    "    tokens are lowercase, (2) all punctuation is removed. Note that\n",
    "    underscore (_) is not considered punctuation.\n",
    "    Params:\n",
    "        text....a string\n",
    "    Returns:\n",
    "        a list of tokens\n",
    "    \"\"\"\n",
    "    \n",
    "    words = nltk.word_tokenize(text)\n",
    "    \n",
    "    wlist=[]\n",
    "    \n",
    "    for w,t in nltk.pos_tag(words):\n",
    "        \n",
    "        if t in POS:\n",
    "            wlist.append(w)\n",
    "        \n",
    "    return wlist\n",
    "\n",
    "tokenize_with_POS(\"I think that the idea of the plot is perfect for exploring first of all the emotional experiences of the people involved and second\")"
   ]
  },
  {
   "cell_type": "code",
   "execution_count": 90,
   "metadata": {
    "collapsed": true
   },
   "outputs": [],
   "source": [
    "def tokenize(text):\n",
    "    \"\"\"Given a string, return a list of tokens such that: (1) all\n",
    "    tokens are lowercase, (2) all punctuation is removed. Note that\n",
    "    underscore (_) is not considered punctuation.\n",
    "    Params:\n",
    "        text....a string\n",
    "    Returns:\n",
    "        a list of tokens\n",
    "    \"\"\"\n",
    "    \n",
    "    words=[]\n",
    "    \n",
    "    for s in re.sub('\\W+', ' ', text.lower()).split():\n",
    "        words.append((s))\n",
    "    return words"
   ]
  },
  {
   "cell_type": "code",
   "execution_count": 91,
   "metadata": {
    "collapsed": false
   },
   "outputs": [
    {
     "data": {
      "text/plain": [
       "['hi',\n",
       " '!',\n",
       " 'how',\n",
       " \"'\",\n",
       " 's',\n",
       " 'it',\n",
       " 'go',\n",
       " '?',\n",
       " '?',\n",
       " '?',\n",
       " 'an_underscor',\n",
       " 'is',\n",
       " 'not',\n",
       " 'not_*',\n",
       " 'not_realli',\n",
       " '*',\n",
       " 'punctuat',\n",
       " '.']"
      ]
     },
     "execution_count": 91,
     "metadata": {},
     "output_type": "execute_result"
    }
   ],
   "source": [
    "def tokenize_with_stemming(text):\n",
    "    \"\"\"Given a string, return a list of tokens such that: (1) all\n",
    "    tokens are lowercase, (2) all punctuation is removed. Note that\n",
    "    underscore (_) is not considered punctuation.\n",
    "    Params:\n",
    "        text....a string\n",
    "    Returns:\n",
    "        a list of tokens\n",
    "    \"\"\"\n",
    "    templ =re.split(\"(\\W)+?\",text.lower()) \n",
    "    l= [stem(r) for r in templ if r.strip()]\n",
    "    for index,word in enumerate(l):\n",
    "        word = stem(word)\n",
    "        if ((word.lower())==\"not\"):\n",
    "            if(len(l)>index+1):\n",
    "                l[index+1]=\"not_\"+l[index+1]\n",
    "            if(len(l)>index+2):\n",
    "                l[index+2]=\"not_\"+l[index+2]\n",
    "    return l\n",
    "\n",
    "tokenize_with_stemming(\"Hi! How's it going??? an_underscore is not *really* punctuation.\")"
   ]
  },
  {
   "cell_type": "code",
   "execution_count": 92,
   "metadata": {
    "collapsed": true
   },
   "outputs": [],
   "source": [
    "def get_stop_words(filename):\n",
    "    \"\"\"  English Stop words provided by Stanford Lingustics\"\"\"\n",
    "    stoplist= []\n",
    "    with open(filename) as fileobject:\n",
    "        stoplist = [ w.replace('\\n','') for w in fileobject.readlines() ]\n",
    "    return stoplist\n",
    "stoplist = get_stop_words(\"stop.txt\")"
   ]
  },
  {
   "cell_type": "code",
   "execution_count": 93,
   "metadata": {
    "collapsed": true
   },
   "outputs": [],
   "source": [
    "def repeatable_random(seed):\n",
    "    \"\"\" shfulling the samples in random order to avoid static fitting \"\"\"\n",
    "    hash = str(seed)\n",
    "    while True:\n",
    "        hash = hashlib.md5(hash).digest()\n",
    "        for c in hash:\n",
    "            yield ord(c)\n",
    "\n",
    "def repeatable_shuffle(X, y, filenames):\n",
    "    r = repeatable_random(42) \n",
    "    indices = sorted(range(X.shape[0]), key=lambda x: next(r))\n",
    "    return X[indices], y[indices], np.array(filenames)[indices]"
   ]
  },
  {
   "cell_type": "code",
   "execution_count": 94,
   "metadata": {
    "collapsed": false
   },
   "outputs": [],
   "source": [
    "def do_vectorize(filenames,stop_words=stoplist, tokenizer_fn=tokenize, min_df=1,\n",
    "                 max_df=1., binary=True, ngram_range=(1,1)):\n",
    "    \"\"\"\n",
    "    Convert a list of filenames into a sparse csr_matrix, where\n",
    "    each row is a file and each column represents a unique word.\n",
    "    Use sklearn's CountVectorizer: http://goo.gl/eJ2PJ5\n",
    "    Params:\n",
    "        filenames.......list of review file names\n",
    "        tokenizer_fn....the function used to tokenize each document\n",
    "        min_df..........remove terms from the vocabulary that don't appear\n",
    "                        in at least this many documents\n",
    "        max_df..........remove terms from the vocabulary that appear in more\n",
    "                        than this fraction of documents\n",
    "        binary..........If true, each documents is represented by a binary\n",
    "                        vector, where 1 means a term occurs at least once in \n",
    "                        the document. If false, the term frequency is used instead.\n",
    "        ngram_range.....A tuple (n,m) means to use phrases of length n to m inclusive.\n",
    "                        E.g., (1,2) means consider unigrams and bigrams.\n",
    "    Return:\n",
    "        A tuple (X, vec), where X is the csr_matrix of feature vectors,\n",
    "        and vec is the CountVectorizer object.\n",
    "    \"\"\"\n",
    "   \n",
    "    if (isinstance(filenames,list)==False):\n",
    "        filenames = filenames.tolist()\n",
    "    \n",
    "    vectorizer = CountVectorizer(input=\"filename\",stop_words=stoplist,tokenizer=tokenizer_fn,min_df=min_df,max_df=max_df,binary=binary,ngram_range=ngram_range,dtype=int)\n",
    "    X = vectorizer.fit_transform(eachfile for eachfile in filenames)\n",
    "    return (X,vectorizer)\n"
   ]
  },
  {
   "cell_type": "code",
   "execution_count": 95,
   "metadata": {
    "collapsed": false
   },
   "outputs": [
    {
     "name": "stdout",
     "output_type": "stream",
     "text": [
      "Top postive Co-efficients: \n",
      "[(0.76481850215725622, u'great'), (0.76048804020699867, u'excellent'), (0.66125758551728364, u'never'), (0.60234129395922431, u\"'d\"), (0.59417533424060176, u'superb'), (0.56970028174454435, u'back'), (0.54575595599943894, u'ago'), (0.5341933356702695, u'amazing'), (0.50171220324076504, u'watch'), (0.49639053321210036, u'liked'), (0.47863232868477373, u'worth'), (0.47802820013861308, u'loved'), (0.4759642465924474, u'still'), (0.47241388919427929, u'truly'), (0.47130954734427605, u'else'), (0.46774881707965466, u'especially'), (0.45552171058649343, u'emotional'), (0.45316169861706707, u'sees'), (0.4503474539202616, u'know'), (0.43809613472050796, u'enjoyed')]\n",
      "\n",
      " Top Negative Co-efficients: \n",
      "[(-0.78126164334045312, u'boring'), (-0.76094935479584758, u'bad'), (-0.70387608563508197, u'terrible'), (-0.69195712060098136, u'watching'), (-0.68830478400236272, u'out'), (-0.64493639576673778, u'can'), (-0.61371330717507044, u'care'), (-0.61083265798658848, u'poor'), (-0.60268681573414884, u'supposed'), (-0.59318192670814207, u'almost'), (-0.55907786968011208, u\"'re\"), (-0.54140016515659983, u'used'), (-0.53879153203649954, u'obviously'), (-0.52761119912557597, u'ever'), (-0.52289306645282474, u'believe'), (-0.51256325017379012, u'awful'), (-0.5084231148141577, u'comes'), (-0.50566537558773406, u'looks'), (-0.50515419092424174, u'better'), (-0.49863033186428957, u'waste')]\n"
     ]
    }
   ],
   "source": [
    "def do_expt(filenames, y, tokenizer_fn=tokenize_with_POS,\n",
    "            min_df=1,stop_words=None, max_df=1., binary=True,\n",
    "            ngram_range=(1,1), n_folds=5):\n",
    "    \"\"\"\n",
    "    Run one experiment, which consists of vectorizing each file,\n",
    "    performing cross-validation, and returning the average accuracy.\n",
    "    You should call do_vectorize and do_cross_validation here.\n",
    "    Params:\n",
    "        filenames.......list of review file names\n",
    "        y...............the true sentiment labels for each file\n",
    "        tokenizer_fn....the function used to tokenize each document\n",
    "        min_df..........remove terms from the vocabulary that don't appear\n",
    "                        in at least this many documents\n",
    "        max_df..........remove terms from the vocabulary that appear in more\n",
    "                        than this fraction of documents\n",
    "        binary..........If true, each documents is represented by a binary\n",
    "                        vector, where 1 means a term occurs at least once in \n",
    "                        the document. If false, the term frequency is used instead.\n",
    "        ngram_range.....A tuple (n,m) means to use phrases of length n to m inclusive.\n",
    "                        E.g., (1,2) means consider unigrams and bigrams.\n",
    "        \n",
    "    Returns:\n",
    "        Top Positive and Negative Co-efficients. \n",
    "    \"\"\"\n",
    "   \n",
    "   \n",
    "    matrix1, vec = do_vectorize(filenames,stop_words, tokenizer_fn=tokenizer_fn, min_df=min_df,max_df=max_df, binary=binary, ngram_range=ngram_range)\n",
    "    clf = LogisticRegression(random_state=42)\n",
    "    clf.fit(matrix1,y)\n",
    "    feature_names = vec.get_feature_names()\n",
    "    \n",
    "    top_pos = sorted(sorted(zip(clf.coef_[0], feature_names))[-20:],reverse=True)\n",
    "    top_neg = sorted(sorted(zip(clf.coef_[0], feature_names))[:20])\n",
    "    return top_pos,top_neg\n",
    "\n",
    "pos_train_files = get_files(\"data\" + os.sep + 'train' + os.sep + 'pos')\n",
    "neg_train_files = get_files(\"data\" + os.sep + 'train' + os.sep + 'neg')\n",
    "all_train_files = pos_train_files + neg_train_files\n",
    "\n",
    "y= get_true_labels(all_train_files)\n",
    "top_pos ,top_neg =  do_expt(all_train_files, y)\n",
    "print \"Top postive Co-efficients: \"\n",
    "print top_pos\n",
    "print \"\\n Top Negative Co-efficients: \"\n",
    "print top_neg\n",
    "\n",
    "\n"
   ]
  },
  {
   "cell_type": "code",
   "execution_count": 101,
   "metadata": {
    "collapsed": false
   },
   "outputs": [],
   "source": [
    "def experiment(path,tokenizer_fn=tokenize,min_df=1,stop_words=None, max_df=1., binary=True,\n",
    "            ngram_range=(1,1)):\n",
    "    \"\"\"\n",
    "    Convert a list of filenames into a sparse csr_matrix, where\n",
    "    each row is a file and each column represents a unique word.\n",
    "    Use sklearn's CountVectorizer: http://goo.gl/eJ2PJ5\n",
    "    Params:\n",
    "        filenames.......list of review file names\n",
    "        tokenizer_fn....the function used to tokenize each document\n",
    "        min_df..........remove terms from the vocabulary that don't appear\n",
    "                        in at least this many documents\n",
    "        max_df..........remove terms from the vocabulary that appear in more\n",
    "                        than this fraction of documents\n",
    "        binary..........If true, each documents is represented by a binary\n",
    "                        vector, where 1 means a term occurs at least once in \n",
    "                        the document. If false, the term frequency is used instead.\n",
    "        ngram_range.....A tuple (n,m) means to use phrases of length n to m inclusive.\n",
    "                        E.g., (1,2) means consider unigrams and bigrams.\n",
    "    Return:\n",
    "    Training X , Y ; Test X,Y  \"\"\"\n",
    "    \n",
    "    pos_train_files = get_files(path + os.sep + 'train' + os.sep + 'pos')\n",
    "    neg_train_files = get_files(path + os.sep + 'train' + os.sep + 'neg')\n",
    "    all_train_files = pos_train_files + neg_train_files\n",
    "    \n",
    "    labels = get_true_labels(all_train_files)\n",
    "\n",
    "    pos_test_files = get_files(path + os.sep + 'test' + os.sep + 'pos')\n",
    "    neg_test_files = get_files(path + os.sep + 'test' + os.sep + 'neg')\n",
    "    all_test_files = pos_test_files + neg_test_files\n",
    "    \n",
    "   \n",
    "    print tokenize\n",
    "\n",
    "    matrix, vec = do_vectorize(all_train_files,tokenizer_fn=tokenizer_fn,\n",
    "            min_df=min_df,stop_words=None, max_df=max_df, binary=True,\n",
    "            ngram_range=(1,1))\n",
    "    X_test = vec.transform(all_test_files)\n",
    "    y_test = np.array([1] * len(pos_test_files) + [0] * len(neg_test_files))\n",
    "    \n",
    "    X, y, filenames = repeatable_shuffle(matrix, labels, all_train_files)\n",
    "\n",
    "    print \"Number of Features :\",X.shape\n",
    "    return X, y, X_test,y_test\n",
    "\n",
    "\n"
   ]
  },
  {
   "cell_type": "code",
   "execution_count": 102,
   "metadata": {
    "collapsed": true
   },
   "outputs": [],
   "source": [
    "def confussion_matrix(y_cap,y,cls=1):\n",
    "    \"\"\" Compute the confussion matrix for the given predicted and actual classes \"\"\"\n",
    "    a=0\n",
    "    b=0\n",
    "    c=0\n",
    "    d=0\n",
    "    for i in range(0,len(y)):        \n",
    "        if y[i]==cls and y_cap[i] ==cls:\n",
    "            a+=1\n",
    "        elif y[i]!=cls and y_cap[i] ==cls:\n",
    "            c+=1\n",
    "        elif y[i]==cls and y_cap[i] !=cls:\n",
    "            b+=1\n",
    "        elif y[i]!=cls and y_cap[i] !=cls:\n",
    "            d+=1\n",
    "    return float(a),float(b),float(c),float(d)"
   ]
  },
  {
   "cell_type": "code",
   "execution_count": 103,
   "metadata": {
    "collapsed": true
   },
   "outputs": [],
   "source": [
    "def evaluate_performance(y_Cap,y,cls):\n",
    "    \"\"\" Using the Confusion matrix , the metric like Accuracy , Precision , Recall , F square measures are computed \"\"\"\n",
    "    a,b,c,d = confussion_matrix(y_Cap,y,cls)\n",
    "    r =0 \n",
    "    p= 0\n",
    "    if a+b+c+d!=0:\n",
    "        print \"Accuracy \\t:\",(a+d)/(a+b+c+d)\n",
    "    else: \n",
    "        print \"Can't Compute Accurancy\"\n",
    "    if c+d !=0:\n",
    "        \n",
    "        r = (d)/(c+d)\n",
    "        print \"Recall  \\t:\",r\n",
    "        print \"False Negative \\t:\",c/(c+d)\n",
    "    else: \n",
    "        print \"Can't Compute Recall and False Negative\"\n",
    "        r=0\n",
    "    if b+d!=0:    \n",
    "        p = d/(b+d)\n",
    "        print \"Precision \\t:\",p\n",
    "    else: \n",
    "        print \"Can't Compute Precision \"\n",
    "        p=0\n",
    "    if a+b!=0:\n",
    "        print \"False Positive \\t:\",b/(a+b)\n",
    "        print \"True Negative \\t:\",a/(a+b)\n",
    "    else:\n",
    "         print \"Can't Compute False Positive and True Negatice\"\n",
    "    if p+r !=0:\n",
    "        print \"F Square \\t:\",2*(p*r)/(p+r)\n",
    "    else:\n",
    "        print\"Can't Compute F Square\"\n",
    "    return p,r"
   ]
  },
  {
   "cell_type": "markdown",
   "metadata": {},
   "source": [
    "### Logistic Regression"
   ]
  },
  {
   "cell_type": "code",
   "execution_count": 104,
   "metadata": {
    "collapsed": true
   },
   "outputs": [],
   "source": [
    "def classify_LR(thetas, x):\n",
    "    \"\"\" Predicts the Class based on sigmoid value  \"\"\"\n",
    "    if sigmoid(thetas,x) > 0.5:\n",
    "        return 1\n",
    "    else:\n",
    "        return 0\n"
   ]
  },
  {
   "cell_type": "code",
   "execution_count": 105,
   "metadata": {
    "collapsed": true
   },
   "outputs": [],
   "source": [
    "def classify_all_LR(x,data,y):\n",
    "    \"\"\" Computes Parameters and predicts the labels for test data  \n",
    "    Input: \n",
    "    X= Testing Samples\n",
    "    Data = Training Samples\n",
    "    y = training laels\n",
    "    Returns:\n",
    "    predictedLabels\n",
    "    \"\"\"\n",
    "    thetas = gradient_descent_LR(data,y)\n",
    "    predictedLabels = []\n",
    "    for i in range(0,x.shape[0]):\n",
    "        predictedLabels.append(classify_LR(thetas,x[i]))\n",
    "    for l in np.unique(y):\n",
    "        print \" \\n Metrics For Class\",l,\".......\"\n",
    "        p,r = evaluate_performance(predictedLabels,Y_test,1)\n",
    "    return predictedLabels"
   ]
  },
  {
   "cell_type": "code",
   "execution_count": 106,
   "metadata": {
    "collapsed": true
   },
   "outputs": [],
   "source": [
    "def sigmoid(thetas, x):\n",
    "    \"\"\" Computes the Sigmoid Values \"\"\"\n",
    "    return 1 / (1 + exp(-np.dot(np.transpose(thetas),x)))"
   ]
  },
  {
   "cell_type": "code",
   "execution_count": 107,
   "metadata": {
    "collapsed": true
   },
   "outputs": [],
   "source": [
    "def gradient_descent_LR(x,y,maxIterations=1000,learning_rate=0.003):\n",
    "    \"\"\" Computes parameter theta usign gradient descent algorithm  \"\"\"\n",
    "    iterations = 0\n",
    "    m,n = np.shape(x)\n",
    "    thetas = np.ones(n)\n",
    "    while(iterations < maxIterations):\n",
    "        gradient=0\n",
    "        for i in range(x.shape[0]):\n",
    "            h = sigmoid(thetas,x[i])\n",
    "            gradient += (h - y[i]) * x[i]\n",
    "        new_thetas = thetas - (learning_rate*gradient)\n",
    "        iterations += 1\n",
    "        thetas = new_thetas\n",
    "    return thetas"
   ]
  },
  {
   "cell_type": "markdown",
   "metadata": {},
   "source": [
    "### SVM - Algorithm Implementation "
   ]
  },
  {
   "cell_type": "code",
   "execution_count": 108,
   "metadata": {
    "collapsed": true
   },
   "outputs": [],
   "source": [
    "def Gaussian(X):\n",
    "    \"\"\" Gaussian Function as kernel \"\"\"\n",
    "    distance = squareform(pdist(X))\n",
    "    sigma = np.std(X)\n",
    "    G = np.exp(-(distance**2)/(2*sigma**2))\n",
    "    return G"
   ]
  },
  {
   "cell_type": "code",
   "execution_count": 109,
   "metadata": {
    "collapsed": true
   },
   "outputs": [],
   "source": [
    "def classify_all(X,w,w0):\n",
    "    \"\"\"Predicts all the labels based on the parameters w and w0 \"\"\"\n",
    "    predictedLabels = list()\n",
    "    for i in range(0,X.shape[0]):\n",
    "        predictedLabels.append(classify(X[i],w,w0))\n",
    "    return predictedLabels"
   ]
  },
  {
   "cell_type": "code",
   "execution_count": 110,
   "metadata": {
    "collapsed": true
   },
   "outputs": [],
   "source": [
    "def classify(x,w,w0):\n",
    "    \"\"\"Predicts the labels based on the parameters w and w0 \"\"\"\n",
    "    if(np.dot(w, x) + w0 > 0):\n",
    "        return 1\n",
    "    else:\n",
    "        return -1"
   ]
  },
  {
   "cell_type": "code",
   "execution_count": 111,
   "metadata": {
    "collapsed": true
   },
   "outputs": [],
   "source": [
    "def find_alpha(X,y,mtype,c=999,type='linear'):\n",
    "    \"\"\" Computing w,w0 using cvxopt's qp solver  \"\"\"\n",
    "    m = X.shape[0]\n",
    "    n = X.shape[1]\n",
    "    #p\n",
    "    if(type == 'linear'):\n",
    "        gm = np.dot(X, X.T)\n",
    "    elif (type == 'gaussian'):\n",
    "        gm= Gaussian(X)\n",
    "    elif (type == 'polynomial'):\n",
    "        Z = polynomial(X,2)\n",
    "        gm= np.dot(Z,Z.T)\n",
    "    \n",
    "    P = np.dot(y,y.T) * gm\n",
    "    P = cvxopt.matrix(P)\n",
    "    #q\n",
    "    \n",
    "    q = np.empty([m, 1])\n",
    "    q.fill(-1)\n",
    "    q = cvxopt.matrix(q)\n",
    "    \n",
    "    if mtype == 'soft':\n",
    "        G = np.zeros([2*m, m])\n",
    "        np.fill_diagonal(G,-1)\n",
    "        np.fill_diagonal(G[m:,],1)\n",
    "        G = cvxopt.matrix(G)\n",
    "    #h\n",
    "        h = np.empty([2*m,1])\n",
    "        h.fill(0)\n",
    "        for i in range(m,2*m):\n",
    "            h[i]=c\n",
    "        h = cvxopt.matrix(h)\n",
    "    else:\n",
    "    #G\n",
    "        G = np.zeros([m, m])\n",
    "        np.fill_diagonal(G,-1)\n",
    "        G = cvxopt.matrix(G)\n",
    "\n",
    "    #h\n",
    "        h = np.empty([m,1])\n",
    "        h.fill(0)\n",
    "        h = cvxopt.matrix(h)\n",
    "    #A\n",
    "    A = cvxopt.matrix(y).T\n",
    "    #b\n",
    "    b = cvxopt.matrix(0.0)\n",
    "\n",
    "    #solve for alphas\n",
    "    alphas = np.matrix(solvers.qp(P, q, G, h, A, b)['x'])\n",
    "    return cvxopt.matrix(alphas)"
   ]
  },
  {
   "cell_type": "code",
   "execution_count": 112,
   "metadata": {
    "collapsed": true
   },
   "outputs": [],
   "source": [
    "def train(alphas,X,y,eps):\n",
    "    \"\"\" Compute parameter alpha based on w,w0  \"\"\"\n",
    "    m,n = X.shape\n",
    "    w = np.zeros([1,n])\n",
    "    for i in range(m):\n",
    "        w += alphas[i] * y[i] * X[i]\n",
    "    #calculate w0\n",
    "    sv_idx = [ sv for sv in range(len(alphas)) if alphas[sv] > eps]\n",
    "    \n",
    "    w0 = 0\n",
    "    for i in sv_idx:\n",
    "        w0 += (y[i] - np.dot(w,X[i]))\n",
    "    if(w0 != 0):\n",
    "        w0 = w0/len(sv_idx)\n",
    "\n",
    "    return w,w0, sv_idx"
   ]
  },
  {
   "cell_type": "code",
   "execution_count": 113,
   "metadata": {
    "collapsed": true
   },
   "outputs": [],
   "source": [
    "def label_update(Y_train,Y_test):\n",
    "    for i in range(0,len(Y_train)):\n",
    "        if(Y_train[i]==0):\n",
    "            Y_train[i] = -1\n",
    "    Y_train = Y_train.astype(float)\n",
    "\n",
    "\n",
    "    for i in range(0,len(Y_test)):\n",
    "        if(Y_test[i]==0):\n",
    "            Y_test[i] = -1\n",
    "    Y_test = Y_test.astype(float)\n",
    "    \n",
    "    return Y_train,Y_test\n"
   ]
  },
  {
   "cell_type": "code",
   "execution_count": 114,
   "metadata": {
    "collapsed": false
   },
   "outputs": [],
   "source": [
    "def classify_SVM(X_train, Y_train, X_test,Y_test):\n",
    "    \"\"\" Wrapper Function to SVM Train , find parameter and predict \"\"\"\n",
    "    Y_train,Y_test = label_update(Y_train,Y_test)\n",
    "    alphas = find_alpha(X_train.toarray(),Y_train,'soft',c=1,type=\"gaussian\")\n",
    "    w,w0,idx = train(alphas,X_train.toarray(),Y_train,0.5)\n",
    "    predicted_labels = classify_all(X_test.toarray(),w,w0)\n",
    "    print \"\\n........... For Class Positive........................\" \n",
    "    p,r = evaluate_performance(predicted_labels,Y_test,1)\n",
    "\n",
    "    print \"\\n............For Class Negative........................\" \n",
    "    p,r = evaluate_performance(predicted_labels,Y_test,-1)\n",
    "    return predicted_labels\n"
   ]
  },
  {
   "cell_type": "code",
   "execution_count": 115,
   "metadata": {
    "collapsed": true
   },
   "outputs": [],
   "source": [
    "def plot_features(counter,label,xlabel,title):\n",
    "    \"\"\"Plots the Bar Graph from the contens of the counter variable\n",
    "    Params:\n",
    "    1. counter : frequency\n",
    "    2. label   : list of labels. \n",
    "    \"\"\"\n",
    "    fig = plt.figure()\n",
    "    \n",
    "    y_pos = np.arange(len(label))\n",
    "    # get the counts for each key, assuming the values are numerical\n",
    "    values = [counter[k] for k in range(0,len(label))]\n",
    "    print values\n",
    "    plt.plot(y_pos,values,marker='o')\n",
    "    plt.xticks(y_pos, label)\n",
    "    plt.xlabel(xlabel)\n",
    "    plt.title(title)\n",
    "\n",
    "    plt.show()\n",
    "    \n",
    "    "
   ]
  },
  {
   "cell_type": "markdown",
   "metadata": {},
   "source": [
    "#  IMDB Movie Review Text Classifiers  \n",
    "\n",
    "#### Data :  400 reviews as trainning samples, 200 as test set \n"
   ]
  },
  {
   "cell_type": "markdown",
   "metadata": {},
   "source": [
    "### Logistic Regression"
   ]
  },
  {
   "cell_type": "markdown",
   "metadata": {},
   "source": [
    "### Feature Extraction with normal Tokenize"
   ]
  },
  {
   "cell_type": "code",
   "execution_count": 116,
   "metadata": {
    "collapsed": false
   },
   "outputs": [
    {
     "name": "stdout",
     "output_type": "stream",
     "text": [
      "\n",
      " With TF-IDF Tokenize \n",
      "<function tokenize at 0x0000000031692198>\n",
      "Number of Features : (400, 4524)\n",
      " \n",
      " Metrics For Class 0 .......\n",
      "Accuracy \t: 0.68\n",
      "Recall  \t: 0.765\n",
      "False Negative \t: 0.235\n",
      "Precision \t: 0.653846153846\n",
      "False Positive \t: 0.405\n",
      "True Negative \t: 0.595\n",
      "F Square \t: 0.705069124424\n",
      " \n",
      " Metrics For Class 1 .......\n",
      "Accuracy \t: 0.68\n",
      "Recall  \t: 0.765\n",
      "False Negative \t: 0.235\n",
      "Precision \t: 0.653846153846\n",
      "False Positive \t: 0.405\n",
      "True Negative \t: 0.595\n",
      "F Square \t: 0.705069124424\n"
     ]
    }
   ],
   "source": [
    "## Using LR\n",
    "\n",
    "Features=[]\n",
    "times=[]\n",
    "accuracies=[]\n",
    "\n",
    "print \"\\n With TF-IDF Tokenize \"\n",
    "\n",
    "X_train, Y_train, X_test,Y_test = experiment(\"data\",tokenizer_fn=tokenize,min_df=2,stop_words=None, max_df=1., binary=True,\n",
    "            ngram_range=(1,3))\n",
    "\n",
    "Features.append(X_train.shape[1])\n",
    "start_time = timeit.default_timer()\n",
    "predictedLabels = classify_all_LR(X_test.toarray(),X_train.toarray(),Y_train)\n",
    "end_time = timeit.default_timer()\n",
    "\n",
    "times.append(end_time - start_time)\n",
    "\n",
    "\n",
    "\n",
    "\n",
    "accuracies.append(accuracy_score(predictedLabels,Y_test))\n",
    "\n"
   ]
  },
  {
   "cell_type": "markdown",
   "metadata": {},
   "source": [
    "### Feature Extraction for Tokenize with Stemming"
   ]
  },
  {
   "cell_type": "code",
   "execution_count": 117,
   "metadata": {
    "collapsed": false
   },
   "outputs": [
    {
     "name": "stdout",
     "output_type": "stream",
     "text": [
      "<function tokenize at 0x0000000031692198>\n",
      "Number of Features : (400, 3835)\n",
      "\n",
      " Considering Stemming of Features\n",
      " \n",
      " Metrics For Class 0 .......\n",
      "Accuracy \t: 0.6925\n",
      "Recall  \t: 0.775\n",
      "False Negative \t: 0.225\n",
      "Precision \t: 0.665236051502\n",
      "False Positive \t: 0.39\n",
      "True Negative \t: 0.61\n",
      "F Square \t: 0.715935334873\n",
      " \n",
      " Metrics For Class 1 .......\n",
      "Accuracy \t: 0.6925\n",
      "Recall  \t: 0.775\n",
      "False Negative \t: 0.225\n",
      "Precision \t: 0.665236051502\n",
      "False Positive \t: 0.39\n",
      "True Negative \t: 0.61\n",
      "F Square \t: 0.715935334873\n"
     ]
    }
   ],
   "source": [
    "X_train, Y_train, X_test,Y_test = experiment(\"data\",tokenizer_fn=tokenize_with_stemming,min_df=2,stop_words=None, max_df=1., binary=True,\n",
    "            ngram_range=(1,3))\n",
    "print \"\\n Considering Stemming of Features\"\n",
    "Features.append(X_train.shape[1])\n",
    "start_time = timeit.default_timer()\n",
    "predictedLabels = classify_all_LR(X_test.toarray(),X_train.toarray(),Y_train)\n",
    "end_time = timeit.default_timer()\n",
    "\n",
    "times.append(end_time - start_time)\n",
    "\n",
    "\n",
    "\n",
    "accuracies.append(accuracy_score(predictedLabels,Y_test))\n"
   ]
  },
  {
   "cell_type": "markdown",
   "metadata": {},
   "source": [
    "### Feature Extraction for Tokenize with POS"
   ]
  },
  {
   "cell_type": "code",
   "execution_count": 118,
   "metadata": {
    "collapsed": false
   },
   "outputs": [
    {
     "name": "stdout",
     "output_type": "stream",
     "text": [
      "<function tokenize at 0x0000000031692198>\n",
      "Number of Features : (400, 2224)\n",
      "\n",
      " Considering Part of Speech of Features\n",
      " \n",
      " Metrics For Class 0 .......\n",
      "Accuracy \t: 0.675\n",
      "Recall  \t: 0.745\n",
      "False Negative \t: 0.255\n",
      "Precision \t: 0.65350877193\n",
      "False Positive \t: 0.395\n",
      "True Negative \t: 0.605\n",
      "F Square \t: 0.696261682243\n",
      " \n",
      " Metrics For Class 1 .......\n",
      "Accuracy \t: 0.675\n",
      "Recall  \t: 0.745\n",
      "False Negative \t: 0.255\n",
      "Precision \t: 0.65350877193\n",
      "False Positive \t: 0.395\n",
      "True Negative \t: 0.605\n",
      "F Square \t: 0.696261682243\n"
     ]
    }
   ],
   "source": [
    "X_train, Y_train, X_test,Y_test = experiment(\"data\",tokenizer_fn=tokenize_with_POS,min_df=2,stop_words=None, max_df=1., binary=True,\n",
    "            ngram_range=(1,3))\n",
    "print \"\\n Considering Part of Speech of Features\"\n",
    "Features.append(X_train.shape[1])\n",
    "start_time = timeit.default_timer()\n",
    "predictedLabels = classify_all_LR(X_test.toarray(),X_train.toarray(),Y_train)\n",
    "end_time = timeit.default_timer()\n",
    "\n",
    "times.append(end_time - start_time)\n",
    "\n",
    "\n",
    "accuracies.append(accuracy_score(predictedLabels,Y_test))"
   ]
  },
  {
   "cell_type": "markdown",
   "metadata": {},
   "source": [
    "### Graph Plot"
   ]
  },
  {
   "cell_type": "code",
   "execution_count": 119,
   "metadata": {
    "collapsed": false
   },
   "outputs": [
    {
     "name": "stdout",
     "output_type": "stream",
     "text": [
      "[4524, 3835, 2224]\n"
     ]
    },
    {
     "data": {
      "image/png": "[encoded data removed]",
      "text/plain": [
       "<matplotlib.figure.Figure at 0x319450b8>"
      ]
     },
     "metadata": {},
     "output_type": "display_data"
    },
    {
     "name": "stdout",
     "output_type": "stream",
     "text": [
      "[16.256589728764084, 12.967765111599874, 7.010009682097007]\n"
     ]
    },
    {
     "data": {
      "image/png": "[encoded data removed]",
      "text/plain": [
       "<matplotlib.figure.Figure at 0x3197f278>"
      ]
     },
     "metadata": {},
     "output_type": "display_data"
    },
    {
     "name": "stdout",
     "output_type": "stream",
     "text": [
      "[0.68000000000000005, 0.6925, 0.67500000000000004]\n"
     ]
    },
    {
     "data": {
      "image/png": "[encoded data removed]",
      "text/plain": [
       "<matplotlib.figure.Figure at 0x3197f518>"
      ]
     },
     "metadata": {},
     "output_type": "display_data"
    }
   ],
   "source": [
    "ylabel = ['TF-IDF','Stemming','Part Of Speech']\n",
    " \n",
    "plot_features(Features,ylabel,\"Number of Features\",\" Feature Reduction/Selection\")\n",
    "plot_features(times,ylabel,\"Time Taken to Train and Classify\",\"Performance\")\n",
    "plot_features(accuracies,ylabel,\"Classifier Accuracy\",\"Accuracy\")"
   ]
  },
  {
   "cell_type": "markdown",
   "metadata": {},
   "source": [
    "### GNB"
   ]
  },
  {
   "cell_type": "markdown",
   "metadata": {},
   "source": [
    "### Feature Extraction with normal Tokenize"
   ]
  },
  {
   "cell_type": "code",
   "execution_count": 120,
   "metadata": {
    "collapsed": false
   },
   "outputs": [
    {
     "name": "stdout",
     "output_type": "stream",
     "text": [
      "<function tokenize at 0x0000000031692198>\n",
      "Number of Features : (400, 4524)\n",
      "\n",
      " Considering Part of Speech of Features\n",
      " \n",
      " Metrics For Class 0 .......\n",
      "Accuracy \t: 0.6525\n",
      "Recall  \t: 0.72\n",
      "False Negative \t: 0.28\n",
      "Precision \t: 0.63436123348\n",
      "False Positive \t: 0.415\n",
      "True Negative \t: 0.585\n",
      "F Square \t: 0.674473067916\n",
      " \n",
      " Metrics For Class 1 .......\n",
      "Accuracy \t: 0.6525\n",
      "Recall  \t: 0.72\n",
      "False Negative \t: 0.28\n",
      "Precision \t: 0.63436123348\n",
      "False Positive \t: 0.415\n",
      "True Negative \t: 0.585\n",
      "F Square \t: 0.674473067916\n"
     ]
    }
   ],
   "source": [
    "gnb = GaussianNB()\n",
    "X_train, Y_train, X_test,Y_test = experiment(\"data\",tokenizer_fn=tokenize,min_df=2,stop_words=None, max_df=1., binary=True,\n",
    "            ngram_range=(1,3))\n",
    "print \"\\n Considering Part of Speech of Features\"\n",
    "Features.append(X_train.shape[1])\n",
    "start_time = timeit.default_timer()\n",
    "predictedLabels = gnb.fit(X_train.toarray(),Y_train).predict(X_test.toarray())\n",
    "for l in np.unique(Y_test):\n",
    "    print \" \\n Metrics For Class\",l,\".......\"\n",
    "    p,r = evaluate_performance(predictedLabels,Y_test,1)\n",
    "end_time = timeit.default_timer()\n",
    "\n",
    "times.append(end_time - start_time)\n",
    "\n",
    "\n",
    "accuracies.append(accuracy_score(predictedLabels,Y_test))"
   ]
  },
  {
   "cell_type": "markdown",
   "metadata": {},
   "source": [
    "###  Feature Extraction with Tokenize with Stemming"
   ]
  },
  {
   "cell_type": "code",
   "execution_count": 121,
   "metadata": {
    "collapsed": false
   },
   "outputs": [
    {
     "name": "stdout",
     "output_type": "stream",
     "text": [
      "<function tokenize at 0x0000000031692198>\n",
      "Number of Features : (400, 3835)\n",
      "\n",
      " Considering Part of Speech of Features\n",
      " \n",
      " Metrics For Class 0 .......\n",
      "Accuracy \t: 0.6825\n",
      "Recall  \t: 0.705\n",
      "False Negative \t: 0.295\n",
      "Precision \t: 0.674641148325\n",
      "False Positive \t: 0.34\n",
      "True Negative \t: 0.66\n",
      "F Square \t: 0.689486552567\n",
      " \n",
      " Metrics For Class 1 .......\n",
      "Accuracy \t: 0.6825\n",
      "Recall  \t: 0.705\n",
      "False Negative \t: 0.295\n",
      "Precision \t: 0.674641148325\n",
      "False Positive \t: 0.34\n",
      "True Negative \t: 0.66\n",
      "F Square \t: 0.689486552567\n"
     ]
    }
   ],
   "source": [
    "gnb = GaussianNB()\n",
    "X_train, Y_train, X_test,Y_test = experiment(\"data\",tokenizer_fn=tokenize_with_stemming,min_df=2,stop_words=None, max_df=1., binary=True,\n",
    "            ngram_range=(1,3))\n",
    "print \"\\n Considering Part of Speech of Features\"\n",
    "Features.append(X_train.shape[1])\n",
    "start_time = timeit.default_timer()\n",
    "predictedLabels = gnb.fit(X_train.toarray(),Y_train).predict(X_test.toarray())\n",
    "for l in np.unique(Y_test):\n",
    "    print \" \\n Metrics For Class\",l,\".......\"\n",
    "    p,r = evaluate_performance(predictedLabels,Y_test,1)\n",
    "end_time = timeit.default_timer()\n",
    "\n",
    "times.append(end_time - start_time)\n",
    "\n",
    "\n",
    "accuracies.append(accuracy_score(predictedLabels,Y_test))\n",
    "\n"
   ]
  },
  {
   "cell_type": "markdown",
   "metadata": {},
   "source": [
    "### Feature Extraction with Tokenize with POS"
   ]
  },
  {
   "cell_type": "code",
   "execution_count": 122,
   "metadata": {
    "collapsed": false
   },
   "outputs": [
    {
     "name": "stdout",
     "output_type": "stream",
     "text": [
      "<function tokenize at 0x0000000031692198>\n",
      "Number of Features : (400, 2224)\n",
      "\n",
      " Considering Part of Speech of Features\n",
      " \n",
      " Metrics For Class 0 .......\n",
      "Accuracy \t: 0.6575\n",
      "Recall  \t: 0.57\n",
      "False Negative \t: 0.43\n",
      "Precision \t: 0.690909090909\n",
      "False Positive \t: 0.255\n",
      "True Negative \t: 0.745\n",
      "F Square \t: 0.624657534247\n",
      " \n",
      " Metrics For Class 1 .......\n",
      "Accuracy \t: 0.6575\n",
      "Recall  \t: 0.57\n",
      "False Negative \t: 0.43\n",
      "Precision \t: 0.690909090909\n",
      "False Positive \t: 0.255\n",
      "True Negative \t: 0.745\n",
      "F Square \t: 0.624657534247\n"
     ]
    }
   ],
   "source": [
    "gnb = GaussianNB()\n",
    "X_train, Y_train, X_test,Y_test = experiment(\"data\",tokenizer_fn=tokenize_with_POS,min_df=2,stop_words=None, max_df=1., binary=True,\n",
    "            ngram_range=(1,3))\n",
    "print \"\\n Considering Part of Speech of Features\"\n",
    "Features.append(X_train.shape[1])\n",
    "start_time = timeit.default_timer()\n",
    "predictedLabels = gnb.fit(X_train.toarray(),Y_train).predict(X_test.toarray())\n",
    "for l in np.unique(Y_test):\n",
    "    print \" \\n Metrics For Class\",l,\".......\"\n",
    "    p,r = evaluate_performance(predictedLabels,Y_test,1)\n",
    "end_time = timeit.default_timer()\n",
    "\n",
    "times.append(end_time - start_time)\n",
    "\n",
    "\n",
    "accuracies.append(accuracy_score(predictedLabels,Y_test))"
   ]
  },
  {
   "cell_type": "markdown",
   "metadata": {},
   "source": [
    "### Graph Plot"
   ]
  },
  {
   "cell_type": "code",
   "execution_count": 123,
   "metadata": {
    "collapsed": false
   },
   "outputs": [
    {
     "name": "stdout",
     "output_type": "stream",
     "text": [
      "[4524, 3835, 2224]\n"
     ]
    },
    {
     "data": {
      "image/png": "[encoded data removed]",
      "text/plain": [
       "<matplotlib.figure.Figure at 0x32883630>"
      ]
     },
     "metadata": {},
     "output_type": "display_data"
    },
    {
     "name": "stdout",
     "output_type": "stream",
     "text": [
      "[16.256589728764084, 12.967765111599874, 7.010009682097007]\n"
     ]
    },
    {
     "data": {
      "image/png": "[encoded data removed]",
      "text/plain": [
       "<matplotlib.figure.Figure at 0x32a3c320>"
      ]
     },
     "metadata": {},
     "output_type": "display_data"
    },
    {
     "name": "stdout",
     "output_type": "stream",
     "text": [
      "[0.68000000000000005, 0.6925, 0.67500000000000004]\n"
     ]
    },
    {
     "data": {
      "image/png": "[encoded data removed]",
      "text/plain": [
       "<matplotlib.figure.Figure at 0x32a504a8>"
      ]
     },
     "metadata": {},
     "output_type": "display_data"
    }
   ],
   "source": [
    "ylabel = ['TF-IDF','Stemming','Part Of Speech']\n",
    " \n",
    "plot_features(Features,ylabel,\"Number of Features\",\" Feature Reduction/Selection\")\n",
    "plot_features(times,ylabel,\"Time Taken to Train and Classify\",\"Performance\")\n",
    "plot_features(accuracies,ylabel,\"Classifier Accuracy\",\"Accuracy\")"
   ]
  },
  {
   "cell_type": "markdown",
   "metadata": {},
   "source": [
    "### SVM"
   ]
  },
  {
   "cell_type": "markdown",
   "metadata": {},
   "source": [
    "### Feature Extraction with normal Tokenize"
   ]
  },
  {
   "cell_type": "code",
   "execution_count": 124,
   "metadata": {
    "collapsed": false
   },
   "outputs": [
    {
     "name": "stdout",
     "output_type": "stream",
     "text": [
      "<function tokenize at 0x0000000031692198>\n",
      "Number of Features : (400, 4524)\n",
      "     pcost       dcost       gap    pres   dres\n",
      " 0: -9.9007e-03 -4.0198e+02  4e+02  2e-17  1e-16\n",
      " 1: -4.4989e-01 -4.8667e+00  4e+00  2e-16  6e-17\n",
      " 2: -4.9968e-01 -5.6552e-01  7e-02  2e-16  4e-17\n",
      " 3: -5.0000e-01 -5.0068e-01  7e-04  2e-16  1e-16\n",
      " 4: -5.0000e-01 -5.0001e-01  7e-06  8e-17  7e-17\n",
      " 5: -5.0000e-01 -5.0000e-01  7e-08  2e-16  6e-17\n",
      "Optimal solution found.\n",
      "\n",
      "........... For Class Positive........................\n",
      "Accuracy \t: 0.785\n",
      "Recall  \t: 0.88\n",
      "False Negative \t: 0.12\n",
      "Precision \t: 0.739495798319\n",
      "False Positive \t: 0.31\n",
      "True Negative \t: 0.69\n",
      "F Square \t: 0.803652968037\n",
      "\n",
      "............For Class Negative........................\n",
      "Accuracy \t: 0.785\n",
      "Recall  \t: 0.69\n",
      "False Negative \t: 0.31\n",
      "Precision \t: 0.851851851852\n",
      "False Positive \t: 0.12\n",
      "True Negative \t: 0.88\n",
      "F Square \t: 0.762430939227\n"
     ]
    }
   ],
   "source": [
    "Features=[]\n",
    "times=[]\n",
    "accuracies=[]\n",
    "\n",
    "\n",
    "#Normal Tokenize , no stop , stem SVM \n",
    "X_train, Y_train, X_test,Y_test = experiment(\"data\",tokenizer_fn=tokenize,min_df=2,stop_words=None, max_df=1., binary=True,\n",
    "            ngram_range=(1,3))\n",
    "\n",
    "\n",
    "Features.append(X_train.shape[1])\n",
    "start_time = timeit.default_timer()\n",
    "\n",
    "predictedLabels = classify_SVM(X_train, Y_train, X_test,Y_test)\n",
    "\n",
    "end_time = timeit.default_timer()\n",
    "times.append(end_time - start_time)\n",
    "accuracies.append(accuracy_score(predictedLabels,Y_test))"
   ]
  },
  {
   "cell_type": "markdown",
   "metadata": {},
   "source": [
    "### Feature Extraction  Tokenize with Stemming"
   ]
  },
  {
   "cell_type": "code",
   "execution_count": 125,
   "metadata": {
    "collapsed": false
   },
   "outputs": [
    {
     "name": "stdout",
     "output_type": "stream",
     "text": [
      "<function tokenize at 0x0000000031692198>\n",
      "Number of Features : (400, 3835)\n",
      "     pcost       dcost       gap    pres   dres\n",
      " 0: -9.9007e-03 -4.0198e+02  4e+02  2e-17  1e-16\n",
      " 1: -4.4989e-01 -4.8667e+00  4e+00  2e-16  6e-17\n",
      " 2: -4.9968e-01 -5.6552e-01  7e-02  2e-16  4e-17\n",
      " 3: -5.0000e-01 -5.0068e-01  7e-04  2e-16  1e-16\n",
      " 4: -5.0000e-01 -5.0001e-01  7e-06  8e-17  7e-17\n",
      " 5: -5.0000e-01 -5.0000e-01  7e-08  2e-16  6e-17\n",
      "Optimal solution found.\n",
      "\n",
      "........... For Class Positive........................\n",
      "Accuracy \t: 0.7625\n",
      "Recall  \t: 0.945\n",
      "False Negative \t: 0.055\n",
      "Precision \t: 0.692307692308\n",
      "False Positive \t: 0.42\n",
      "True Negative \t: 0.58\n",
      "F Square \t: 0.799154334038\n",
      "\n",
      "............For Class Negative........................\n",
      "Accuracy \t: 0.7625\n",
      "Recall  \t: 0.58\n",
      "False Negative \t: 0.42\n",
      "Precision \t: 0.913385826772\n",
      "False Positive \t: 0.055\n",
      "True Negative \t: 0.945\n",
      "F Square \t: 0.709480122324\n"
     ]
    }
   ],
   "source": [
    "X_train,Y_train,X_test,Y_test =   experiment(\"data\",tokenizer_fn=tokenize_with_stemming,min_df=2,stop_words=None, max_df=1., binary=True,\n",
    "            ngram_range=(1,3))\n",
    "\n",
    "Features.append(X_train.shape[1])\n",
    "start_time = timeit.default_timer()\n",
    "\n",
    "predictedLabels = classify_SVM(X_train, Y_train, X_test,Y_test)\n",
    "\n",
    "end_time = timeit.default_timer()\n",
    "times.append(end_time - start_time)\n",
    "accuracies.append(accuracy_score(predictedLabels,Y_test))"
   ]
  },
  {
   "cell_type": "markdown",
   "metadata": {},
   "source": [
    "### Feature Extraction  Tokenize with POS"
   ]
  },
  {
   "cell_type": "code",
   "execution_count": 126,
   "metadata": {
    "collapsed": false
   },
   "outputs": [
    {
     "name": "stdout",
     "output_type": "stream",
     "text": [
      "<function tokenize at 0x0000000031692198>\n",
      "Number of Features : (400, 2224)\n",
      "     pcost       dcost       gap    pres   dres\n",
      " 0: -9.9007e-03 -4.0198e+02  4e+02  2e-17  1e-16\n",
      " 1: -4.4989e-01 -4.8667e+00  4e+00  2e-16  6e-17\n",
      " 2: -4.9968e-01 -5.6552e-01  7e-02  2e-16  4e-17\n",
      " 3: -5.0000e-01 -5.0068e-01  7e-04  2e-16  1e-16\n",
      " 4: -5.0000e-01 -5.0001e-01  7e-06  8e-17  7e-17\n",
      " 5: -5.0000e-01 -5.0000e-01  7e-08  2e-16  6e-17\n",
      "Optimal solution found.\n",
      "\n",
      "........... For Class Positive........................\n",
      "Accuracy \t: 0.7675\n",
      "Recall  \t: 0.795\n",
      "False Negative \t: 0.205\n",
      "Precision \t: 0.75355450237\n",
      "False Positive \t: 0.26\n",
      "True Negative \t: 0.74\n",
      "F Square \t: 0.773722627737\n",
      "\n",
      "............For Class Negative........................\n",
      "Accuracy \t: 0.7675\n",
      "Recall  \t: 0.74\n",
      "False Negative \t: 0.26\n",
      "Precision \t: 0.783068783069\n",
      "False Positive \t: 0.205\n",
      "True Negative \t: 0.795\n",
      "F Square \t: 0.760925449871\n"
     ]
    }
   ],
   "source": [
    "X_train,Y_train,X_test,Y_test =   experiment(\"data\",tokenizer_fn=tokenize_with_POS,min_df=2,stop_words=None, max_df=1., binary=True,\n",
    "            ngram_range=(1,3))\n",
    "Features.append(X_train.shape[1])\n",
    "start_time = timeit.default_timer()\n",
    "\n",
    "predictedLabels = classify_SVM(X_train, Y_train, X_test,Y_test)\n",
    "\n",
    "end_time = timeit.default_timer()\n",
    "times.append(end_time - start_time)\n",
    "accuracies.append(accuracy_score(predictedLabels,Y_test))"
   ]
  },
  {
   "cell_type": "markdown",
   "metadata": {},
   "source": [
    "### Graph Plot"
   ]
  },
  {
   "cell_type": "code",
   "execution_count": 127,
   "metadata": {
    "collapsed": false
   },
   "outputs": [
    {
     "name": "stdout",
     "output_type": "stream",
     "text": [
      "[4524, 3835, 2224]\n"
     ]
    },
    {
     "data": {
      "image/png": "[encoded data removed]",
      "text/plain": [
       "<matplotlib.figure.Figure at 0x31df48d0>"
      ]
     },
     "metadata": {},
     "output_type": "display_data"
    },
    {
     "name": "stdout",
     "output_type": "stream",
     "text": [
      "[0.5909377437637886, 0.5488441353227245, 0.341821278037969]\n"
     ]
    },
    {
     "data": {
      "image/png": "[encoded data removed]",
      "text/plain": [
       "<matplotlib.figure.Figure at 0x324b74a8>"
      ]
     },
     "metadata": {},
     "output_type": "display_data"
    },
    {
     "name": "stdout",
     "output_type": "stream",
     "text": [
      "[0.78500000000000003, 0.76249999999999996, 0.76749999999999996]\n"
     ]
    },
    {
     "data": {
      "image/png": "[encoded data removed]",
      "text/plain": [
       "<matplotlib.figure.Figure at 0x324b7780>"
      ]
     },
     "metadata": {},
     "output_type": "display_data"
    }
   ],
   "source": [
    "ylabel = ['TF-IDF','Stemming','Part Of Speech']\n",
    " \n",
    "plot_features(Features,ylabel,\"Number of Features\",\" Feature Reduction/Selection\")\n",
    "plot_features(times,ylabel,\"Time Taken to Train and Classify\",\"Performance\")\n",
    "plot_features(accuracies,ylabel,\"Classifier Accuracy\",\"Accuracy\")"
   ]
  },
  {
   "cell_type": "markdown",
   "metadata": {},
   "source": [
    "#  Yelp Restraunt Review Text Classifiers  \n",
    "\n",
    "#### Data :  204 reviews as trainning samples, 100 as test set \n"
   ]
  },
  {
   "cell_type": "markdown",
   "metadata": {},
   "source": [
    "### Logistic Regression"
   ]
  },
  {
   "cell_type": "markdown",
   "metadata": {},
   "source": [
    "### Feature Extraction with normal Tokenize"
   ]
  },
  {
   "cell_type": "code",
   "execution_count": 128,
   "metadata": {
    "collapsed": false
   },
   "outputs": [
    {
     "name": "stdout",
     "output_type": "stream",
     "text": [
      "\n",
      " With TF-IDF Tokenize \n",
      "<function tokenize at 0x0000000031692198>\n",
      "Number of Features : (314, 106)\n",
      " \n",
      " Metrics For Class 0 .......\n",
      "Accuracy \t: 0.736363636364\n",
      "Recall  \t: 0.80701754386\n",
      "False Negative \t: 0.19298245614\n",
      "Precision \t: 0.71875\n",
      "False Positive \t: 0.339622641509\n",
      "True Negative \t: 0.660377358491\n",
      "F Square \t: 0.760330578512\n",
      " \n",
      " Metrics For Class 1 .......\n",
      "Accuracy \t: 0.736363636364\n",
      "Recall  \t: 0.80701754386\n",
      "False Negative \t: 0.19298245614\n",
      "Precision \t: 0.71875\n",
      "False Positive \t: 0.339622641509\n",
      "True Negative \t: 0.660377358491\n",
      "F Square \t: 0.760330578512\n"
     ]
    }
   ],
   "source": [
    "## Using LR\n",
    "\n",
    "Features=[]\n",
    "times=[]\n",
    "accuracies=[]\n",
    "\n",
    "print \"\\n With TF-IDF Tokenize \"\n",
    "\n",
    "X_train, Y_train, X_test,Y_test = experiment(\"ML_Data\",tokenizer_fn=tokenize,min_df=8,stop_words=None, max_df=1., binary=True,\n",
    "            ngram_range=(1,3))\n",
    "\n",
    "Features.append(X_train.shape[1])\n",
    "start_time = timeit.default_timer()\n",
    "predictedLabels = classify_all_LR(X_test.toarray(),X_train.toarray(),Y_train)\n",
    "end_time = timeit.default_timer()\n",
    "\n",
    "times.append(end_time - start_time)\n",
    "\n",
    "\n",
    "\n",
    "\n",
    "accuracies.append(accuracy_score(predictedLabels,Y_test))\n",
    "\n"
   ]
  },
  {
   "cell_type": "markdown",
   "metadata": {},
   "source": [
    "### Feature Extraction Tokenize With Stemming"
   ]
  },
  {
   "cell_type": "code",
   "execution_count": 129,
   "metadata": {
    "collapsed": false
   },
   "outputs": [
    {
     "name": "stdout",
     "output_type": "stream",
     "text": [
      "<function tokenize at 0x0000000031692198>\n",
      "Number of Features : (314, 137)\n",
      "\n",
      " Considering Stemming of Features\n",
      " \n",
      " Metrics For Class 0 .......\n",
      "Accuracy \t: 0.763636363636\n",
      "Recall  \t: 0.824561403509\n",
      "False Negative \t: 0.175438596491\n",
      "Precision \t: 0.746031746032\n",
      "False Positive \t: 0.301886792453\n",
      "True Negative \t: 0.698113207547\n",
      "F Square \t: 0.783333333333\n",
      " \n",
      " Metrics For Class 1 .......\n",
      "Accuracy \t: 0.763636363636\n",
      "Recall  \t: 0.824561403509\n",
      "False Negative \t: 0.175438596491\n",
      "Precision \t: 0.746031746032\n",
      "False Positive \t: 0.301886792453\n",
      "True Negative \t: 0.698113207547\n",
      "F Square \t: 0.783333333333\n"
     ]
    }
   ],
   "source": [
    "X_train, Y_train, X_test,Y_test = experiment(\"ML_Data\",tokenizer_fn=tokenize_with_stemming,min_df=8,stop_words=None, max_df=1., binary=True,\n",
    "            ngram_range=(1,3))\n",
    "print \"\\n Considering Stemming of Features\"\n",
    "Features.append(X_train.shape[1])\n",
    "start_time = timeit.default_timer()\n",
    "predictedLabels = classify_all_LR(X_test.toarray(),X_train.toarray(),Y_train)\n",
    "end_time = timeit.default_timer()\n",
    "\n",
    "times.append(end_time - start_time)\n",
    "\n",
    "\n",
    "\n",
    "accuracies.append(accuracy_score(predictedLabels,Y_test))\n"
   ]
  },
  {
   "cell_type": "markdown",
   "metadata": {},
   "source": [
    "### Feature Extraction for Tokenize with POS"
   ]
  },
  {
   "cell_type": "code",
   "execution_count": 130,
   "metadata": {
    "collapsed": false
   },
   "outputs": [
    {
     "name": "stdout",
     "output_type": "stream",
     "text": [
      "<function tokenize at 0x0000000031692198>\n",
      "Number of Features : (314, 60)\n",
      "\n",
      " Considering Part of Speech of Features\n",
      " \n",
      " Metrics For Class 0 .......\n",
      "Accuracy \t: 0.681818181818\n",
      "Recall  \t: 0.736842105263\n",
      "False Negative \t: 0.263157894737\n",
      "Precision \t: 0.677419354839\n",
      "False Positive \t: 0.377358490566\n",
      "True Negative \t: 0.622641509434\n",
      "F Square \t: 0.705882352941\n",
      " \n",
      " Metrics For Class 1 .......\n",
      "Accuracy \t: 0.681818181818\n",
      "Recall  \t: 0.736842105263\n",
      "False Negative \t: 0.263157894737\n",
      "Precision \t: 0.677419354839\n",
      "False Positive \t: 0.377358490566\n",
      "True Negative \t: 0.622641509434\n",
      "F Square \t: 0.705882352941\n"
     ]
    }
   ],
   "source": [
    "X_train, Y_train, X_test,Y_test = experiment(\"ML_Data\",tokenizer_fn=tokenize_with_POS,min_df=8,stop_words=None, max_df=1., binary=True,\n",
    "            ngram_range=(1,3))\n",
    "print \"\\n Considering Part of Speech of Features\"\n",
    "Features.append(X_train.shape[1])\n",
    "start_time = timeit.default_timer()\n",
    "predictedLabels = classify_all_LR(X_test.toarray(),X_train.toarray(),Y_train)\n",
    "end_time = timeit.default_timer()\n",
    "\n",
    "times.append(end_time - start_time)\n",
    "\n",
    "\n",
    "accuracies.append(accuracy_score(predictedLabels,Y_test))"
   ]
  },
  {
   "cell_type": "markdown",
   "metadata": {},
   "source": [
    "### Graph Plot"
   ]
  },
  {
   "cell_type": "code",
   "execution_count": 131,
   "metadata": {
    "collapsed": false
   },
   "outputs": [
    {
     "name": "stdout",
     "output_type": "stream",
     "text": [
      "[106, 137, 60]\n"
     ]
    },
    {
     "data": {
      "image/png": "[encoded data removed]",
      "text/plain": [
       "<matplotlib.figure.Figure at 0x324bff98>"
      ]
     },
     "metadata": {},
     "output_type": "display_data"
    },
    {
     "name": "stdout",
     "output_type": "stream",
     "text": [
      "[1.9969820419355528, 1.9063941195781808, 1.7970492692184052]\n"
     ]
    },
    {
     "data": {
      "image/png": "[encoded data removed]",
      "text/plain": [
       "<matplotlib.figure.Figure at 0x324bfa90>"
      ]
     },
     "metadata": {},
     "output_type": "display_data"
    },
    {
     "name": "stdout",
     "output_type": "stream",
     "text": [
      "[0.73636363636363633, 0.76363636363636367, 0.68181818181818177]\n"
     ]
    },
    {
     "data": {
      "image/png": "[encoded data removed]",
      "text/plain": [
       "<matplotlib.figure.Figure at 0x314896d8>"
      ]
     },
     "metadata": {},
     "output_type": "display_data"
    }
   ],
   "source": [
    "ylabel = ['TF-IDF','Stemming','Part Of Speech']\n",
    " \n",
    "plot_features(Features,ylabel,\"Number of Features\",\" Feature Reduction/Selection\")\n",
    "plot_features(times,ylabel,\"Time Taken to Train and Classify\",\"Performance\")\n",
    "plot_features(accuracies,ylabel,\"Classifier Accuracy\",\"Accuracy\")"
   ]
  },
  {
   "cell_type": "markdown",
   "metadata": {},
   "source": [
    "### GNB"
   ]
  },
  {
   "cell_type": "markdown",
   "metadata": {},
   "source": [
    "### Feature Extraction with normal Tokenize"
   ]
  },
  {
   "cell_type": "code",
   "execution_count": 132,
   "metadata": {
    "collapsed": false
   },
   "outputs": [
    {
     "name": "stdout",
     "output_type": "stream",
     "text": [
      "<function tokenize at 0x0000000031692198>\n",
      "Number of Features : (314, 387)\n",
      "\n",
      " Considering Part of Speech of Features\n",
      " \n",
      " Metrics For Class 0 .......\n",
      "Accuracy \t: 0.863636363636\n",
      "Recall  \t: 0.877192982456\n",
      "False Negative \t: 0.122807017544\n",
      "Precision \t: 0.862068965517\n",
      "False Positive \t: 0.150943396226\n",
      "True Negative \t: 0.849056603774\n",
      "F Square \t: 0.869565217391\n",
      " \n",
      " Metrics For Class 1 .......\n",
      "Accuracy \t: 0.863636363636\n",
      "Recall  \t: 0.877192982456\n",
      "False Negative \t: 0.122807017544\n",
      "Precision \t: 0.862068965517\n",
      "False Positive \t: 0.150943396226\n",
      "True Negative \t: 0.849056603774\n",
      "F Square \t: 0.869565217391\n"
     ]
    }
   ],
   "source": [
    "Features=[]\n",
    "times=[]\n",
    "accuracies=[]\n",
    "\n",
    "gnb = GaussianNB()\n",
    "X_train, Y_train, X_test,Y_test = experiment(\"ML_Data\",tokenizer_fn=tokenize,min_df=3,stop_words=None, max_df=1., binary=True,\n",
    "            ngram_range=(1,3))\n",
    "print \"\\n Considering Part of Speech of Features\"\n",
    "Features.append(X_train.shape[1])\n",
    "start_time = timeit.default_timer()\n",
    "predictedLabels = gnb.fit(X_train.toarray(),Y_train).predict(X_test.toarray())\n",
    "for l in np.unique(Y_test):\n",
    "    print \" \\n Metrics For Class\",l,\".......\"\n",
    "    p,r = evaluate_performance(predictedLabels,Y_test,1)\n",
    "end_time = timeit.default_timer()\n",
    "\n",
    "times.append(end_time - start_time)\n",
    "\n",
    "\n",
    "accuracies.append(accuracy_score(predictedLabels,Y_test))"
   ]
  },
  {
   "cell_type": "markdown",
   "metadata": {},
   "source": [
    "### Feature Extraction for Tokenize with Stemming"
   ]
  },
  {
   "cell_type": "code",
   "execution_count": 133,
   "metadata": {
    "collapsed": false
   },
   "outputs": [
    {
     "name": "stdout",
     "output_type": "stream",
     "text": [
      "<function tokenize at 0x0000000031692198>\n",
      "Number of Features : (314, 413)\n",
      "\n",
      " Considering Part of Speech of Features\n",
      " \n",
      " Metrics For Class 0 .......\n",
      "Accuracy \t: 0.863636363636\n",
      "Recall  \t: 0.754385964912\n",
      "False Negative \t: 0.245614035088\n",
      "Precision \t: 0.977272727273\n",
      "False Positive \t: 0.0188679245283\n",
      "True Negative \t: 0.981132075472\n",
      "F Square \t: 0.851485148515\n",
      " \n",
      " Metrics For Class 1 .......\n",
      "Accuracy \t: 0.863636363636\n",
      "Recall  \t: 0.754385964912\n",
      "False Negative \t: 0.245614035088\n",
      "Precision \t: 0.977272727273\n",
      "False Positive \t: 0.0188679245283\n",
      "True Negative \t: 0.981132075472\n",
      "F Square \t: 0.851485148515\n"
     ]
    }
   ],
   "source": [
    "gnb = GaussianNB()\n",
    "X_train, Y_train, X_test,Y_test = experiment(\"ML_Data\",tokenizer_fn=tokenize_with_stemming,min_df=3,stop_words=None, max_df=1., binary=True,\n",
    "            ngram_range=(1,3))\n",
    "print \"\\n Considering Part of Speech of Features\"\n",
    "Features.append(X_train.shape[1])\n",
    "start_time = timeit.default_timer()\n",
    "predictedLabels = gnb.fit(X_train.toarray(),Y_train).predict(X_test.toarray())\n",
    "for l in np.unique(Y_test):\n",
    "    print \" \\n Metrics For Class\",l,\".......\"\n",
    "    p,r = evaluate_performance(predictedLabels,Y_test,1)\n",
    "end_time = timeit.default_timer()\n",
    "\n",
    "times.append(end_time - start_time)\n",
    "\n",
    "\n",
    "accuracies.append(accuracy_score(predictedLabels,Y_test))\n",
    "\n"
   ]
  },
  {
   "cell_type": "markdown",
   "metadata": {},
   "source": [
    "### Feature Extraction for Tokenize with POS"
   ]
  },
  {
   "cell_type": "code",
   "execution_count": 134,
   "metadata": {
    "collapsed": false
   },
   "outputs": [
    {
     "name": "stdout",
     "output_type": "stream",
     "text": [
      "<function tokenize at 0x0000000031692198>\n",
      "Number of Features : (314, 189)\n",
      "\n",
      " Considering Part of Speech of Features\n",
      " \n",
      " Metrics For Class 0 .......\n",
      "Accuracy \t: 0.8\n",
      "Recall  \t: 0.894736842105\n",
      "False Negative \t: 0.105263157895\n",
      "Precision \t: 0.761194029851\n",
      "False Positive \t: 0.301886792453\n",
      "True Negative \t: 0.698113207547\n",
      "F Square \t: 0.822580645161\n",
      " \n",
      " Metrics For Class 1 .......\n",
      "Accuracy \t: 0.8\n",
      "Recall  \t: 0.894736842105\n",
      "False Negative \t: 0.105263157895\n",
      "Precision \t: 0.761194029851\n",
      "False Positive \t: 0.301886792453\n",
      "True Negative \t: 0.698113207547\n",
      "F Square \t: 0.822580645161\n"
     ]
    }
   ],
   "source": [
    "gnb = GaussianNB()\n",
    "X_train, Y_train, X_test,Y_test = experiment(\"ML_Data\",tokenizer_fn=tokenize_with_POS,min_df=3,stop_words=None, max_df=1., binary=True,\n",
    "            ngram_range=(1,3))\n",
    "print \"\\n Considering Part of Speech of Features\"\n",
    "Features.append(X_train.shape[1])\n",
    "start_time = timeit.default_timer()\n",
    "predictedLabels = gnb.fit(X_train.toarray(),Y_train).predict(X_test.toarray())\n",
    "for l in np.unique(Y_test):\n",
    "    print \" \\n Metrics For Class\",l,\".......\"\n",
    "    p,r = evaluate_performance(predictedLabels,Y_test,1)\n",
    "end_time = timeit.default_timer()\n",
    "\n",
    "times.append(end_time - start_time)\n",
    "\n",
    "\n",
    "accuracies.append(accuracy_score(predictedLabels,Y_test))\n",
    "\n"
   ]
  },
  {
   "cell_type": "markdown",
   "metadata": {},
   "source": [
    "### Graph Plot"
   ]
  },
  {
   "cell_type": "code",
   "execution_count": 135,
   "metadata": {
    "collapsed": false
   },
   "outputs": [
    {
     "name": "stdout",
     "output_type": "stream",
     "text": [
      "[387, 413, 189]\n"
     ]
    },
    {
     "data": {
      "image/png": "[encoded data removed]",
      "text/plain": [
       "<matplotlib.figure.Figure at 0x31e1ada0>"
      ]
     },
     "metadata": {},
     "output_type": "display_data"
    },
    {
     "name": "stdout",
     "output_type": "stream",
     "text": [
      "[0.007385166201856919, 0.006077398626075592, 0.0049347056992701255]\n"
     ]
    },
    {
     "data": {
      "image/png": "[encoded data removed]",
      "text/plain": [
       "<matplotlib.figure.Figure at 0x31e1ae10>"
      ]
     },
     "metadata": {},
     "output_type": "display_data"
    },
    {
     "name": "stdout",
     "output_type": "stream",
     "text": [
      "[0.86363636363636365, 0.86363636363636365, 0.80000000000000004]\n"
     ]
    },
    {
     "data": {
      "image/png": "[encoded data removed]",
      "text/plain": [
       "<matplotlib.figure.Figure at 0x32220780>"
      ]
     },
     "metadata": {},
     "output_type": "display_data"
    }
   ],
   "source": [
    "\n",
    "ylabel = ['TF-IDF','Stemming','Part Of Speech']\n",
    " \n",
    "plot_features(Features,ylabel,\"Number of Features\",\" Feature Reduction/Selection\")\n",
    "plot_features(times,ylabel,\"Time Taken to Train and Classify\",\"Performance\")\n",
    "plot_features(accuracies,ylabel,\"Classifier Accuracy\",\"Accuracy\")"
   ]
  },
  {
   "cell_type": "markdown",
   "metadata": {},
   "source": [
    "## SVM"
   ]
  },
  {
   "cell_type": "markdown",
   "metadata": {},
   "source": [
    "### Feature Extraction with normal Tokenize"
   ]
  },
  {
   "cell_type": "code",
   "execution_count": 136,
   "metadata": {
    "collapsed": false
   },
   "outputs": [
    {
     "name": "stdout",
     "output_type": "stream",
     "text": [
      "<function tokenize at 0x0000000031692198>\n",
      "Number of Features : (314, 1620)\n",
      "     pcost       dcost       gap    pres   dres\n",
      " 0: -1.2193e-02 -3.1692e+02  3e+02  2e-16  2e-16\n",
      " 1: -4.4073e-01 -4.0093e+00  4e+00  1e-16  4e-16\n",
      " 2: -4.8939e-01 -5.4629e-01  6e-02  1e-16  1e-16\n",
      " 3: -4.8970e-01 -4.9029e-01  6e-04  5e-17  6e-17\n",
      " 4: -4.8970e-01 -4.8971e-01  6e-06  3e-16  1e-16\n",
      " 5: -4.8970e-01 -4.8970e-01  6e-08  8e-17  4e-17\n",
      "Optimal solution found.\n",
      "\n",
      "........... For Class Positive........................\n",
      "Accuracy \t: 0.863636363636\n",
      "Recall  \t: 0.912280701754\n",
      "False Negative \t: 0.0877192982456\n",
      "Precision \t: 0.838709677419\n",
      "False Positive \t: 0.188679245283\n",
      "True Negative \t: 0.811320754717\n",
      "F Square \t: 0.873949579832\n",
      "\n",
      "............For Class Negative........................\n",
      "Accuracy \t: 0.863636363636\n",
      "Recall  \t: 0.811320754717\n",
      "False Negative \t: 0.188679245283\n",
      "Precision \t: 0.895833333333\n",
      "False Positive \t: 0.0877192982456\n",
      "True Negative \t: 0.912280701754\n",
      "F Square \t: 0.851485148515\n"
     ]
    }
   ],
   "source": [
    "Features=[]\n",
    "times=[]\n",
    "accuracies=[]\n",
    "\n",
    "\n",
    "#Normal Tokenize , no stop , stem SVM \n",
    "X_train, Y_train, X_test,Y_test = experiment(\"ML_Data\",tokenizer_fn=tokenize,min_df=1,stop_words=None, max_df=1., binary=True,\n",
    "            ngram_range=(1,1))\n",
    "\n",
    "\n",
    "Features.append(X_train.shape[1])\n",
    "start_time = timeit.default_timer()\n",
    "\n",
    "predictedLabels = classify_SVM(X_train, Y_train, X_test,Y_test)\n",
    "\n",
    "end_time = timeit.default_timer()\n",
    "times.append(end_time - start_time)\n",
    "accuracies.append(accuracy_score(predictedLabels,Y_test))"
   ]
  },
  {
   "cell_type": "markdown",
   "metadata": {},
   "source": [
    "### Feature Extraction for Tokenize with Stemming"
   ]
  },
  {
   "cell_type": "code",
   "execution_count": 137,
   "metadata": {
    "collapsed": false
   },
   "outputs": [
    {
     "name": "stdout",
     "output_type": "stream",
     "text": [
      "<function tokenize at 0x0000000031692198>\n",
      "Number of Features : (314, 1448)\n",
      "     pcost       dcost       gap    pres   dres\n",
      " 0: -1.2193e-02 -3.1692e+02  3e+02  2e-16  2e-16\n",
      " 1: -4.4073e-01 -4.0093e+00  4e+00  1e-16  4e-16\n",
      " 2: -4.8939e-01 -5.4629e-01  6e-02  1e-16  1e-16\n",
      " 3: -4.8970e-01 -4.9029e-01  6e-04  5e-17  6e-17\n",
      " 4: -4.8970e-01 -4.8971e-01  6e-06  3e-16  1e-16\n",
      " 5: -4.8970e-01 -4.8970e-01  6e-08  8e-17  4e-17\n",
      "Optimal solution found.\n",
      "\n",
      "........... For Class Positive........................\n",
      "Accuracy \t: 0.836363636364\n",
      "Recall  \t: 0.824561403509\n",
      "False Negative \t: 0.175438596491\n",
      "Precision \t: 0.854545454545\n",
      "False Positive \t: 0.150943396226\n",
      "True Negative \t: 0.849056603774\n",
      "F Square \t: 0.839285714286\n",
      "\n",
      "............For Class Negative........................\n",
      "Accuracy \t: 0.836363636364\n",
      "Recall  \t: 0.849056603774\n",
      "False Negative \t: 0.150943396226\n",
      "Precision \t: 0.818181818182\n",
      "False Positive \t: 0.175438596491\n",
      "True Negative \t: 0.824561403509\n",
      "F Square \t: 0.833333333333\n"
     ]
    }
   ],
   "source": [
    "X_train,Y_train,X_test,Y_test =   experiment(\"ML_Data\",tokenizer_fn=tokenize_with_stemming,min_df=1,stop_words=None, max_df=1., binary=True,\n",
    "            ngram_range=(1,1))\n",
    "\n",
    "Features.append(X_train.shape[1])\n",
    "start_time = timeit.default_timer()\n",
    "\n",
    "predictedLabels = classify_SVM(X_train, Y_train, X_test,Y_test)\n",
    "\n",
    "end_time = timeit.default_timer()\n",
    "times.append(end_time - start_time)\n",
    "accuracies.append(accuracy_score(predictedLabels,Y_test))"
   ]
  },
  {
   "cell_type": "markdown",
   "metadata": {},
   "source": [
    "### Feature Extraction for Tokenize with POS"
   ]
  },
  {
   "cell_type": "code",
   "execution_count": 138,
   "metadata": {
    "collapsed": false
   },
   "outputs": [
    {
     "name": "stdout",
     "output_type": "stream",
     "text": [
      "<function tokenize at 0x0000000031692198>\n",
      "Number of Features : (314, 801)\n",
      "     pcost       dcost       gap    pres   dres\n",
      " 0: -1.2193e-02 -3.1692e+02  3e+02  2e-16  2e-16\n",
      " 1: -4.4073e-01 -4.0093e+00  4e+00  1e-16  4e-16\n",
      " 2: -4.8939e-01 -5.4629e-01  6e-02  1e-16  1e-16\n",
      " 3: -4.8970e-01 -4.9029e-01  6e-04  5e-17  6e-17\n",
      " 4: -4.8970e-01 -4.8971e-01  6e-06  3e-16  1e-16\n",
      " 5: -4.8970e-01 -4.8970e-01  6e-08  8e-17  4e-17\n",
      "Optimal solution found.\n",
      "\n",
      "........... For Class Positive........................\n",
      "Accuracy \t: 0.872727272727\n",
      "Recall  \t: 0.859649122807\n",
      "False Negative \t: 0.140350877193\n",
      "Precision \t: 0.890909090909\n",
      "False Positive \t: 0.11320754717\n",
      "True Negative \t: 0.88679245283\n",
      "F Square \t: 0.875\n",
      "\n",
      "............For Class Negative........................\n",
      "Accuracy \t: 0.872727272727\n",
      "Recall  \t: 0.88679245283\n",
      "False Negative \t: 0.11320754717\n",
      "Precision \t: 0.854545454545\n",
      "False Positive \t: 0.140350877193\n",
      "True Negative \t: 0.859649122807\n",
      "F Square \t: 0.87037037037\n"
     ]
    }
   ],
   "source": [
    "X_train,Y_train,X_test,Y_test =   experiment(\"ML_Data\",tokenizer_fn=tokenize_with_POS,min_df=1,stop_words=None, max_df=1., binary=True,\n",
    "            ngram_range=(1,1))\n",
    "Features.append(X_train.shape[1])\n",
    "start_time = timeit.default_timer()\n",
    "\n",
    "predictedLabels = classify_SVM(X_train, Y_train, X_test,Y_test)\n",
    "\n",
    "end_time = timeit.default_timer()\n",
    "times.append(end_time - start_time)\n",
    "accuracies.append(accuracy_score(predictedLabels,Y_test))"
   ]
  },
  {
   "cell_type": "markdown",
   "metadata": {},
   "source": [
    "### Graph Plot"
   ]
  },
  {
   "cell_type": "code",
   "execution_count": 139,
   "metadata": {
    "collapsed": false
   },
   "outputs": [
    {
     "name": "stdout",
     "output_type": "stream",
     "text": [
      "[1620, 1448, 801]\n"
     ]
    },
    {
     "data": {
      "image/png": "[encoded data removed]",
      "text/plain": [
       "<matplotlib.figure.Figure at 0x320a1278>"
      ]
     },
     "metadata": {},
     "output_type": "display_data"
    },
    {
     "name": "stdout",
     "output_type": "stream",
     "text": [
      "[0.2134791578282602, 0.16871826803253498, 0.18344797325698892]\n"
     ]
    },
    {
     "data": {
      "image/png": "[encoded data removed]",
      "text/plain": [
       "<matplotlib.figure.Figure at 0x320a1908>"
      ]
     },
     "metadata": {},
     "output_type": "display_data"
    },
    {
     "name": "stdout",
     "output_type": "stream",
     "text": [
      "[0.86363636363636365, 0.83636363636363631, 0.87272727272727268]\n"
     ]
    },
    {
     "data": {
      "image/png": "[encoded data removed]",
      "text/plain": [
       "<matplotlib.figure.Figure at 0x3193f470>"
      ]
     },
     "metadata": {},
     "output_type": "display_data"
    }
   ],
   "source": [
    "ylabel = ['TF-IDF','Stemming','Part Of Speech']\n",
    " \n",
    "plot_features(Features,ylabel,\"Number of Features\",\" Feature Reduction/Selection\")\n",
    "plot_features(times,ylabel,\"Time Taken to Train and Classify\",\"Performance\")\n",
    "plot_features(accuracies,ylabel,\"Classifier Accuracy\",\"Accuracy\")"
   ]
  }
 ],
 "metadata": {
  "kernelspec": {
   "display_name": "Python 2",
   "language": "python",
   "name": "python2"
  },
  "language_info": {
   "codemirror_mode": {
    "name": "ipython",
    "version": 2
   },
   "file_extension": ".py",
   "mimetype": "text/x-python",
   "name": "python",
   "nbconvert_exporter": "python",
   "pygments_lexer": "ipython2",
   "version": "2.7.11"
  }
 },
 "nbformat": 4,
 "nbformat_minor": 0
}
