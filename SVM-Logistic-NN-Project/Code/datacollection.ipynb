{
 "cells": [
  {
   "cell_type": "code",
   "execution_count": 36,
   "metadata": {
    "collapsed": true
   },
   "outputs": [],
   "source": [
    "from yelpapi import YelpAPI\n",
    "import numpy as np\n",
    "import itertools\n",
    "from StringIO import StringIO\n",
    "from zipfile import ZipFile\n",
    "from urllib import urlopen\n",
    "import re\n",
    "from collections import Counter\n",
    "from sklearn.dummy import DummyClassifier\n",
    "from sklearn.cross_validation import KFold\n",
    "from sklearn.linear_model import LogisticRegression\n",
    "from sklearn.metrics import accuracy_score, confusion_matrix\n",
    "import json\n",
    "import os\n",
    "import sys\n",
    "import urllib2\n",
    "import requests\n",
    "%matplotlib inline\n",
    "import matplotlib.pyplot as plt\n",
    "import tarfile\n",
    "from urllib import urlretrieve\n",
    "import re\n"
   ]
  },
  {
   "cell_type": "markdown",
   "metadata": {},
   "source": [
    "### Yelp Data Collection"
   ]
  },
  {
   "cell_type": "code",
   "execution_count": 37,
   "metadata": {
    "collapsed": true
   },
   "outputs": [],
   "source": [
    "#Yelp API credentials \n",
    "consumer_key = 'n8Rma6EAUIO0dP0Dvs8aHw'\n",
    "consumer_secret = '2qhBFlxCRzN30vQkTV8L_8vUPMk'\n",
    "token = 'NEkCf_eKEAoD4M6V0rRR3NiuvquxhyI0'\n",
    "token_secret = 'T-jUuD7AAcyZJ-JJxgdfXuqxbu0'\n",
    "yelp_api = YelpAPI(consumer_key, consumer_secret, token, token_secret)\n",
    "locations=open('cities.txt','r').read().split('\\n')"
   ]
  },
  {
   "cell_type": "code",
   "execution_count": null,
   "metadata": {
    "collapsed": false
   },
   "outputs": [],
   "source": [
    "## Collecting reviews and ratings - Restaurant 1\n",
    "import io\n",
    "for i in range(0,len(locations)):\n",
    "    filename = \"Pizza Hut\"\n",
    "    res1=[]\n",
    "    search_results = yelp_api.search_query(limit=20,term=\"Pizza Hut\",location = locations[i],category_filter='restaurants')\n",
    "    m = 0\n",
    "    for j in search_results['businesses']:\n",
    "        if j['rating'] > 3.5:\n",
    "            t=\"pos\"\n",
    "        else:\n",
    "            t =\"neg\"\n",
    "        if os.path.isdir(os.path.curdir+os.sep+t):\n",
    "            the_file = open(os.path.curdir+os.sep+t+os.sep+filename+str(m)+\".txt\", 'w+')\n",
    "            the_file.write(j['snippet_text'].encode(\"utf-8\"))\n",
    "            m = m+1\n",
    "            the_file.close()\n",
    "        else:\n",
    "            os.makedirs(os.path.curdir+os.sep+t)\n",
    "            the_file = open(os.path.curdir+os.sep+t+os.sep+str(m)+\".txt\", 'w+')\n",
    "            the_file.write(j['snippet_text'].encode(\"utf-8\"))\n",
    "            m = m+1\n",
    "            the_file.close()"
   ]
  },
  {
   "cell_type": "markdown",
   "metadata": {},
   "source": [
    "### IMDB Data"
   ]
  },
  {
   "cell_type": "code",
   "execution_count": null,
   "metadata": {
    "collapsed": false
   },
   "outputs": [],
   "source": [
    "def get_data():\n",
    "    \"\"\" Download and unzip data.\"\"\"\n",
    "    urlretrieve('https://www.dropbox.com/s/xk4glpk61q3qrg2/imdb.tgz?dl=1', 'imdb.tgz')\n",
    "    tar = tarfile.open(\"imdb.tgz\")\n",
    "    tar.extractall()\n",
    "    tar.close()\n",
    "    \n",
    "get_data()"
   ]
  }
 ],
 "metadata": {
  "kernelspec": {
   "display_name": "Python 2",
   "language": "python",
   "name": "python2"
  },
  "language_info": {
   "codemirror_mode": {
    "name": "ipython",
    "version": 2
   },
   "file_extension": ".py",
   "mimetype": "text/x-python",
   "name": "python",
   "nbconvert_exporter": "python",
   "pygments_lexer": "ipython2",
   "version": "2.7.11"
  }
 },
 "nbformat": 4,
 "nbformat_minor": 0
}
