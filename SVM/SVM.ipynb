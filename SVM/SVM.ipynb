{
 "cells": [
  {
   "cell_type": "code",
   "execution_count": 1,
   "metadata": {
    "collapsed": false
   },
   "outputs": [],
   "source": [
    "from sklearn import datasets\n",
    "import matplotlib.pyplot as plt\n",
    "import math\n",
    "%matplotlib inline\n",
    "import numpy as np\n",
    "from sklearn.preprocessing import PolynomialFeatures\n",
    "from scipy.spatial.distance import pdist, squareform\n",
    "from sklearn.preprocessing import normalize\n",
    "import scipy\n",
    "import random\n",
    "import timeit\n",
    "from sympy import *\n",
    "import cvxopt\n",
    "from cvxopt import *\n",
    "from cvxpy import *\n"
   ]
  },
  {
   "cell_type": "code",
   "execution_count": 2,
   "metadata": {
    "collapsed": true
   },
   "outputs": [],
   "source": [
    "def make_data(path,sample=30):\n",
    "    data1 = getdata_CSV(path)\n",
    "    data1 = np.array(random.sample(data1, len(data1)))\n",
    "    #plot_models(data1,\"Samples\")\n",
    "    \n",
    "    X_train= data1[:sample,0:2]\n",
    "    Y_train= data1[:sample,2]\n",
    "    X_test= data1[sample:,0:2]\n",
    "    Y_test= data1[sample:,2]\n",
    "    return X_train,Y_train,X_test,Y_test\n"
   ]
  },
  {
   "cell_type": "code",
   "execution_count": null,
   "metadata": {
    "collapsed": false
   },
   "outputs": [],
   "source": []
  },
  {
   "cell_type": "code",
   "execution_count": 119,
   "metadata": {
    "collapsed": false
   },
   "outputs": [],
   "source": [
    "def plot_models(X,sv,title,d=1):\n",
    "    X= [X[X[:,2]==k][:,0:2] for k in np.unique(X[:,2])]\n",
    "    x_1=[]\n",
    "    x_2=[]\n",
    "    \n",
    "    color=['Blue','Red']\n",
    "    for cls in range(0,len(X)):\n",
    "        x_1= X[cls][:,0]\n",
    "        x_2= X[cls][:,1]\n",
    "        \n",
    "        plt.plot(x_1,x_2,'o',color=color[cls])\n",
    "    if(d==1):\n",
    "        plt.plot((11,28),(0,9),c=\"black\")\n",
    "    if sv is not None:\n",
    "        for s,v in tuple(sv):\n",
    "            plt.plot(s,v,'o',color=\"black\")\n",
    "            \n",
    "    plt.title(title)\n",
    "\n",
    "    plt.show()\n",
    "    \n"
   ]
  },
  {
   "cell_type": "markdown",
   "metadata": {},
   "source": [
    "### Data Collection for CSV"
   ]
  },
  {
   "cell_type": "code",
   "execution_count": 84,
   "metadata": {
    "collapsed": true
   },
   "outputs": [],
   "source": [
    "def getdata_CSV(filename):\n",
    "    return np.genfromtxt(filename,delimiter=\",\")"
   ]
  },
  {
   "cell_type": "code",
   "execution_count": 125,
   "metadata": {
    "collapsed": false
   },
   "outputs": [
    {
     "data": {
      "image/png": "[encoded data removed]",
      "text/plain": [
       "<matplotlib.figure.Figure at 0x1c640898>"
      ]
     },
     "metadata": {},
     "output_type": "display_data"
    },
    {
     "data": {
      "image/png": "[encoded data removed]",
      "text/plain": [
       "<matplotlib.figure.Figure at 0x1c99c278>"
      ]
     },
     "metadata": {},
     "output_type": "display_data"
    }
   ],
   "source": [
    "X = getdata_CSV(\"../data/Data_2D.csv\")\n",
    "sv=None\n",
    "plot_models(X,sv,\"Separable Sample Distrbution\")\n",
    "\n",
    "X = getdata_CSV(\"../data/Data_2D_mixed.csv\")\n",
    "sv=None\n",
    "plot_models(X,sv,\"Inseparable Sample Distrbution\")\n"
   ]
  },
  {
   "cell_type": "markdown",
   "metadata": {},
   "source": [
    "### Gaussian Kernel \n",
    "$ K(X^{(i)},X^{(j)}) = \\exp ^{(-1/\\sigma (X^i-X^j)^T . (X^i-X^j))} $"
   ]
  },
  {
   "cell_type": "code",
   "execution_count": 7,
   "metadata": {
    "collapsed": true
   },
   "outputs": [],
   "source": [
    "def gaussian_kernel(xi, xj, sigma=2.0):\n",
    "    return np.exp(-np.linalg.norm(xi-xj)**2 / (2 * (sigma ** 2)))"
   ]
  },
  {
   "cell_type": "markdown",
   "metadata": {},
   "source": [
    "###Polynomial Kernel \n",
    "$ K(X^{(i)},X^{(j)}) = (X^{(i)^T}. X^{(j)} + 1 )^q $"
   ]
  },
  {
   "cell_type": "code",
   "execution_count": 8,
   "metadata": {
    "collapsed": true
   },
   "outputs": [],
   "source": [
    "def polynomial_kernel(xi, xj, q=3):\n",
    "    return (1 + np.dot(xi, xj)) ** q"
   ]
  },
  {
   "cell_type": "markdown",
   "metadata": {},
   "source": [
    "### Linear Kernel \n",
    "$ K(X^{(i)},X^{(j)}) = (X^{(i)^T}. X^{(j)}) $\n"
   ]
  },
  {
   "cell_type": "code",
   "execution_count": 9,
   "metadata": {
    "collapsed": true
   },
   "outputs": [],
   "source": [
    "def linear_kernel(xi, xj):\n",
    "    return np.dot(xi, xj)\n"
   ]
  },
  {
   "cell_type": "code",
   "execution_count": 10,
   "metadata": {
    "collapsed": true
   },
   "outputs": [],
   "source": [
    "def evaluate_performance(y_Cap,y,cls):\n",
    "    \"\"\" Using the Confusion matrix , the metric like Accuracy , Precision , Recall , F square measures are computed \"\"\"\n",
    "    a,b,c,d = confussion_matrix(y_Cap,y,cls)\n",
    "    r =0 \n",
    "    p= 0\n",
    "    if a+b+c+d!=0:\n",
    "        print \"Accuracy \\t:\",(a+d)/(a+b+c+d)\n",
    "    else: \n",
    "        print \"Can't Compute Accurancy\"\n",
    "    if c+d !=0:\n",
    "        \n",
    "        r = (d)/(c+d)\n",
    "        print \"Recall  \\t:\",r\n",
    "        print \"False Negative \\t:\",c/(c+d)\n",
    "    else: \n",
    "        print \"Can't Compute Recall and False Negative\"\n",
    "        r=0\n",
    "    if b+d!=0:    \n",
    "        p = d/(b+d)\n",
    "        print \"Precision \\t:\",p\n",
    "    else: \n",
    "        print \"Can't Compute Precision \"\n",
    "        p=0\n",
    "    if a+b!=0:\n",
    "        print \"False Positive \\t:\",b/(a+b)\n",
    "        print \"True Negative \\t:\",a/(a+b)\n",
    "    else:\n",
    "         print \"Can't Compute False Positive and True Negatice\"\n",
    "    if p+r !=0:\n",
    "        print \"F Square \\t:\",2*(p*r)/(p+r)\n",
    "    else:\n",
    "        print\"Can't Compute F Square\"\n",
    "    return p,r"
   ]
  },
  {
   "cell_type": "code",
   "execution_count": 12,
   "metadata": {
    "collapsed": false
   },
   "outputs": [],
   "source": [
    "def confussion_matrix(y_cap,y,cls=1):\n",
    "    \"\"\" Compute the confussion matrix for the given predicted and actual classes \"\"\"\n",
    "    a=0\n",
    "    b=0\n",
    "    c=0\n",
    "    d=0\n",
    "    for i in range(0,len(y)):        \n",
    "        if y[i]==cls and y_cap[i] ==cls:\n",
    "            a+=1\n",
    "        elif y[i]!=cls and y_cap[i] ==cls:\n",
    "            c+=1\n",
    "        elif y[i]==cls and y_cap[i] !=cls:\n",
    "            b+=1\n",
    "        elif y[i]!=cls and y_cap[i] !=cls:\n",
    "            d+=1\n",
    "    return float(a),float(b),float(c),float(d)\n",
    "\n",
    "\n"
   ]
  },
  {
   "cell_type": "markdown",
   "metadata": {},
   "source": [
    "### Finding Lagrange multipliers \n",
    "\n",
    "Using CVXOPT's Quadratic problem solver  \n",
    "$ min_x 1/2 X^T P X + q^T X $\n",
    "\n",
    "### Computing Weights W and W$_0$ \n",
    "$ w = \\sum_{i=1}^{m}\\alpha_i y^{(i)}X^{(i)} $\n",
    "\n",
    "$ w_0 = 1/sv \\sum_{X^i \\in SV} ( y^{(i)} - W^T .X^{(i)})  $"
   ]
  },
  {
   "cell_type": "code",
   "execution_count": 13,
   "metadata": {
    "collapsed": false
   },
   "outputs": [],
   "source": [
    "\n",
    "def fit(X,Y,c=None,kernel_fn=linear_kernel):\n",
    "    \"\"\"Computation of lagrange multipliers using CVXOPT package QP solver\n",
    "    Input: Data and Label X, Y as NP array, slack c as integer\n",
    "    Output: Lagrange Mulitpliers vector aplha\"\"\"\n",
    "    \n",
    "    n_samples, n_features = X.shape\n",
    "\n",
    "        # Gram matrix\n",
    "    K = np.zeros((n_samples, n_samples))\n",
    "    for i in range(n_samples):\n",
    "        for j in range(n_samples):\n",
    "            K[i,j] = kernel_fn(X[i], X[j])\n",
    "            \n",
    "    \n",
    "    p= mul_elemwise(np.dot(Y,np.transpose(Y)),K )\n",
    "    P=matrix(p.value)\n",
    "\n",
    "    q= matrix(np.full((len(Y),1), -1))\n",
    "\n",
    "    l = len(Y)\n",
    "    print l \n",
    "\n",
    "    A= matrix(Y, (1,l))\n",
    "\n",
    "    b=matrix(0.0)\n",
    "    if c is not None:\n",
    "        g1 = np.zeros((l,l))\n",
    "        np.fill_diagonal(g1, -1)\n",
    "\n",
    "        g2 = np.zeros((l,l))\n",
    "        np.fill_diagonal(g2, 1)\n",
    "\n",
    "        g = np.concatenate((g1,g2),axis=0) \n",
    "        G =matrix(g)\n",
    "\n",
    "        h1= np.zeros((l,1))\n",
    "        h2= np.full((l,1), c)\n",
    "        h= matrix(np.concatenate((h1,h2),axis=0))\n",
    "    else:\n",
    "        g = np.zeros((len(Y_train),len(Y_train)))\n",
    "        np.fill_diagonal(g, -1)\n",
    "        G =matrix(g)\n",
    "\n",
    "        h=matrix(np.zeros(len(Y_train)))\n",
    "\n",
    "\n",
    "\n",
    "    q_soln = solvers.qp(P,q,G,h,A,b)\n",
    "    alphas = np.ravel(q_soln['x'] )\n",
    "   \n",
    "\n",
    "    nsv = alphas > 0.000000001\n",
    "    \n",
    "    ind = np.arange(len(alphas))[nsv]\n",
    "    alphas = alphas[nsv]\n",
    "    \n",
    "  \n",
    "    sv = X[nsv]\n",
    "    sv_y = Y[nsv]\n",
    "\n",
    "\n",
    "\n",
    "    # Bias W0\n",
    "    W0 = 0\n",
    "    for n in range(len(alphas)):\n",
    "        W0 += sv_y[n]\n",
    "        W0 -= np.sum(alphas * sv_y * K[ind[n],nsv])\n",
    "    W0 /= len(alphas)\n",
    "    \n",
    "    # W weights \n",
    "    \n",
    "    W=[]\n",
    "    if kernel_fn == linear_kernel:\n",
    "        W = np.zeros(X.shape[1])\n",
    "        for n in range(0,len(alphas)):\n",
    "            W+=alphas[n] * sv_y[n] * sv[n]\n",
    "    else:\n",
    "        W = None\n",
    "\n",
    "    return alphas,W0,W,sv,sv_y"
   ]
  },
  {
   "cell_type": "code",
   "execution_count": null,
   "metadata": {
    "collapsed": true
   },
   "outputs": [],
   "source": []
  },
  {
   "cell_type": "code",
   "execution_count": 14,
   "metadata": {
    "collapsed": false
   },
   "outputs": [],
   "source": [
    "def predict(alphas,sv,sv_y,w,w0,X_test,kernel=None):\n",
    "    \n",
    "    \"predicting the labels for Test data \"\n",
    "    if w is not None:\n",
    "        return np.sign(np.dot(X_test, W) + w0)\n",
    "    else:\n",
    "        y_predict  = np.zeros(len(X_test))\n",
    "        for i in range(len(X_test)):\n",
    "            temp=0\n",
    "            for a,sy,s in zip(alphas,sv_y,sv):\n",
    "                 \n",
    "                temp+= a*sy* kernel(X_test[i],s)\n",
    "            y_predict[i] = temp\n",
    "            \n",
    "        return np.sign(y_predict)      "
   ]
  },
  {
   "cell_type": "code",
   "execution_count": 291,
   "metadata": {
    "collapsed": false
   },
   "outputs": [
    {
     "name": "stdout",
     "output_type": "stream",
     "text": [
      "30\n",
      "     pcost       dcost       gap    pres   dres\n",
      " 0: -1.9867e+00 -3.4177e+00  7e+01  7e+00  2e+00\n",
      " 1: -1.8539e+00 -5.6995e-01  1e+01  1e+00  3e-01\n",
      " 2: -5.5769e-02 -9.8809e-04  2e-01  3e-02  7e-03\n",
      " 3: -1.3101e-03 -5.3670e-04  8e-03  8e-04  2e-04\n",
      " 4: -3.3900e-05 -3.8881e-04  4e-04  3e-19  2e-15\n",
      " 5: -1.4075e-04 -2.3367e-04  9e-05  8e-20  7e-16\n",
      " 6: -2.0931e-04 -2.1716e-04  8e-06  6e-20  7e-16\n",
      " 7: -2.1551e-04 -2.1559e-04  8e-08  2e-21  5e-16\n",
      "Optimal solution found.\n",
      "Accuracy \t: 1.0\n",
      "Recall  \t: 1.0\n",
      "False Negative \t: 0.0\n",
      "Precision \t: 1.0\n",
      "False Positive \t: 0.0\n",
      "True Negative \t: 1.0\n",
      "F Square \t: 1.0\n"
     ]
    },
    {
     "data": {
      "image/png": "[encoded data removed]",
      "text/plain": [
       "<matplotlib.figure.Figure at 0x4c60f710>"
      ]
     },
     "metadata": {},
     "output_type": "display_data"
    }
   ],
   "source": [
    "X_train,Y_train,X_test,Y_test = make_data(\"Data_2D.csv\")\n",
    "alphas,W0,W,sv,sv_y = fit(X_train, Y_train)\n",
    "y_predict = predict(alphas,sv,sv_y,W,W0,X_test)\n",
    "evaluate_performance(y_predict,Y_test,1)\n",
    "\n",
    "X = getdata_CSV(\"Data_2D.csv\")\n",
    "plot_models(X,sv,\"Samples\")"
   ]
  },
  {
   "cell_type": "code",
   "execution_count": 277,
   "metadata": {
    "collapsed": false
   },
   "outputs": [
    {
     "name": "stdout",
     "output_type": "stream",
     "text": [
      "30\n",
      "     pcost       dcost       gap    pres   dres\n",
      " 0: -1.3016e+00 -1.5194e+01  1e+02  4e+00  2e-12\n",
      " 1: -6.1102e-01 -9.4090e+00  2e+01  3e-01  2e-12\n",
      " 2: -3.2218e-01 -2.5553e+00  4e+00  8e-02  5e-13\n",
      " 3: -9.4397e-03 -6.0640e-01  9e-01  1e-02  2e-13\n",
      " 4: -9.6404e-05 -1.6046e-02  2e-02  4e-04  2e-14\n",
      " 5:  7.5502e-05 -5.6790e-04  7e-04  4e-06  6e-16\n",
      " 6: -3.5414e-05 -3.5211e-04  3e-04  2e-06  6e-16\n",
      " 7: -1.8896e-04 -3.8661e-04  2e-04  3e-07  6e-16\n",
      " 8: -2.3326e-04 -2.4249e-04  9e-06  1e-08  8e-16\n",
      " 9: -2.3721e-04 -2.3730e-04  1e-07  1e-10  5e-16\n",
      "Optimal solution found.\n",
      "Accuracy \t: 0.571428571429\n",
      "Recall  \t: 1.0\n",
      "False Negative \t: 0.0\n",
      "Precision \t: 0.571428571429\n",
      "False Positive \t: 1.0\n",
      "True Negative \t: 0.0\n",
      "F Square \t: 0.727272727273\n"
     ]
    },
    {
     "data": {
      "text/plain": [
       "(0.5714285714285714, 1.0)"
      ]
     },
     "execution_count": 277,
     "metadata": {},
     "output_type": "execute_result"
    }
   ],
   "source": [
    "alphas,W0,W,sv,sv_y = fit(X_train, Y_train,c=0.4)\n",
    "y_predict = predict(alphas,sv,sv_y,W,W0,X_test)\n",
    "evaluate_performance(y_predict,Y_test,1)"
   ]
  },
  {
   "cell_type": "markdown",
   "metadata": {
    "collapsed": true
   },
   "source": [
    "### Inseparable data with Gaussian kernel "
   ]
  },
  {
   "cell_type": "code",
   "execution_count": 185,
   "metadata": {
    "collapsed": false
   },
   "outputs": [],
   "source": [
    "X_train,Y_train,X_test,Y_test = make_data(\"Data_2D_mixed.csv\")"
   ]
  },
  {
   "cell_type": "code",
   "execution_count": 266,
   "metadata": {
    "collapsed": false
   },
   "outputs": [
    {
     "name": "stdout",
     "output_type": "stream",
     "text": [
      "30\n",
      "     pcost       dcost       gap    pres   dres\n",
      " 0: -1.8318e-01 -3.2828e+00  7e+01  8e+00  3e-16\n",
      " 1: -1.7549e-01 -2.8663e+00  3e+00  1e-01  3e-16\n",
      " 2: -1.6840e-01 -3.1845e-01  2e-01  1e-03  3e-16\n",
      " 3: -1.7958e-01 -1.8946e-01  1e-02  4e-05  1e-16\n",
      " 4: -1.8141e-01 -1.8288e-01  1e-03  5e-06  1e-16\n",
      " 5: -1.8194e-01 -1.8203e-01  9e-05  1e-07  1e-16\n",
      " 6: -1.8199e-01 -1.8199e-01  2e-06  1e-09  1e-16\n",
      " 7: -1.8199e-01 -1.8199e-01  2e-08  1e-11  1e-16\n",
      "Optimal solution found.\n",
      "Accuracy \t: 1.0\n",
      "Recall  \t: 1.0\n",
      "False Negative \t: 0.0\n",
      "Precision \t: 1.0\n",
      "False Positive \t: 0.0\n",
      "True Negative \t: 1.0\n",
      "F Square \t: 1.0\n"
     ]
    },
    {
     "data": {
      "image/png": "[encoded data removed]",
      "text/plain": [
       "<matplotlib.figure.Figure at 0x4c58e588>"
      ]
     },
     "metadata": {},
     "output_type": "display_data"
    }
   ],
   "source": [
    "alphas,W0,W,sv,sv_y = fit(X_train, Y_train,c=0.1,kernel_fn=gaussian_kernel)\n",
    "y_predict = predict(alphas,sv,sv_y,W,W0,X_test,kernel =gaussian_kernel )\n",
    "evaluate_performance(y_predict,Y_test,1)\n",
    "\n",
    "X = getdata_CSV(\"Data_2D_mixed.csv\")\n",
    "plot_models(X,sv,\"Samples\")"
   ]
  },
  {
   "cell_type": "markdown",
   "metadata": {},
   "source": [
    "### Inseparable data with linear kernel "
   ]
  },
  {
   "cell_type": "code",
   "execution_count": 62,
   "metadata": {
    "collapsed": false
   },
   "outputs": [
    {
     "name": "stdout",
     "output_type": "stream",
     "text": [
      "30\n",
      "     pcost       dcost       gap    pres   dres\n",
      " 0: -1.2135e+00 -7.4741e+00  1e+02  9e+00  3e-12\n",
      " 1: -3.7700e-01 -5.7090e+00  1e+01  5e-01  1e-12\n",
      " 2: -1.2954e-01 -1.1285e+00  2e+00  7e-02  4e-13\n",
      " 3: -1.3194e-02 -1.7465e-01  2e-01  1e-02  1e-13\n",
      " 4: -2.5200e-04 -3.6763e-03  5e-03  2e-04  2e-14\n",
      " 5: -9.6647e-05 -3.0954e-04  2e-04  2e-06  7e-16\n",
      " 6: -1.8402e-04 -2.2832e-04  5e-05  3e-07  5e-16\n",
      " 7: -2.1508e-04 -2.1599e-04  9e-07  4e-09  4e-16\n",
      " 8: -2.1557e-04 -2.1558e-04  9e-09  4e-11  5e-16\n",
      "Optimal solution found.\n",
      "Accuracy \t: 0.666666666667\n",
      "Recall  \t: 1.0\n",
      "False Negative \t: 0.0\n",
      "Precision \t: 0.6\n",
      "False Positive \t: 0.666666666667\n",
      "True Negative \t: 0.333333333333\n",
      "F Square \t: 0.75\n"
     ]
    },
    {
     "data": {
      "text/plain": [
       "(0.6, 1.0)"
      ]
     },
     "execution_count": 62,
     "metadata": {},
     "output_type": "execute_result"
    }
   ],
   "source": [
    "alphas,W0,W,sv,sv_y = fit(X_train, Y_train,c=0.2)\n",
    "\n",
    "y_predict = predict(alphas,sv,sv_y,W,W0,X_test)\n",
    "evaluate_performance(y_predict,Y_test,1)"
   ]
  },
  {
   "cell_type": "markdown",
   "metadata": {},
   "source": [
    "### Experimentation using external datasets\n",
    "\n",
    "#### 1.  Two class data containing features that classifies good vs bad credit scores"
   ]
  },
  {
   "cell_type": "code",
   "execution_count": 122,
   "metadata": {
    "collapsed": false
   },
   "outputs": [],
   "source": [
    "externaldata = getdata_CSV(\"../data/credit_Score.csv\") \n",
    "X_Train = externaldata[:200,[1,2,4]]\n",
    "Y_Train = externaldata[:200,15]\n",
    "X_Test = externaldata[200:300,[1,2,4]]\n",
    "Y_Test = externaldata[200:300,15]"
   ]
  },
  {
   "cell_type": "code",
   "execution_count": 123,
   "metadata": {
    "collapsed": false
   },
   "outputs": [
    {
     "name": "stdout",
     "output_type": "stream",
     "text": [
      "Number of samples with class 1  158 Number of samples with class 2  42\n"
     ]
    }
   ],
   "source": [
    "count = 0\n",
    "for i in (Y_Train):\n",
    "    if i==1:\n",
    "        count +=1\n",
    "    \n",
    "print \"Number of samples with class 1 \",count ,\"Number of samples with class 2 \",len(Y_Train)-count      "
   ]
  },
  {
   "cell_type": "code",
   "execution_count": 124,
   "metadata": {
    "collapsed": false
   },
   "outputs": [
    {
     "data": {
      "image/png": "[encoded data removed]",
      "text/plain": [
       "<matplotlib.figure.Figure at 0x1c208518>"
      ]
     },
     "metadata": {},
     "output_type": "display_data"
    }
   ],
   "source": [
    "plot_models(externaldata[:300,[1,2,15]],None,\"More samples in one class\",None)"
   ]
  },
  {
   "cell_type": "code",
   "execution_count": 131,
   "metadata": {
    "collapsed": false
   },
   "outputs": [
    {
     "name": "stdout",
     "output_type": "stream",
     "text": [
      "200\n",
      "     pcost       dcost       gap    pres   dres\n",
      " 0: -1.2183e-01 -4.1613e+00  4e+02  2e+01  1e-15\n",
      " 1: -1.1960e-01 -4.0151e+00  1e+01  3e-01  6e-16\n",
      " 2: -1.0480e-01 -1.4855e+00  2e+00  5e-02  6e-16\n",
      " 3: -7.2266e-02 -3.5100e-01  4e-01  8e-03  1e-15\n",
      " 4: -6.0402e-02 -7.9606e-02  2e-02  4e-04  6e-16\n",
      " 5: -6.0531e-02 -6.2920e-02  3e-03  5e-05  6e-16\n",
      " 6: -6.0666e-02 -6.0843e-02  2e-04  2e-06  4e-16\n",
      " 7: -6.0688e-02 -6.0708e-02  2e-05  1e-07  4e-16\n",
      " 8: -6.0690e-02 -6.0691e-02  4e-07  2e-09  4e-16\n",
      " 9: -6.0690e-02 -6.0690e-02  2e-08  2e-11  4e-16\n",
      "Optimal solution found.\n",
      "Accuracy \t: 0.53\n",
      "Recall  \t: 1.0\n",
      "False Negative \t: 0.0\n",
      "Precision \t: 0.53\n",
      "False Positive \t: 1.0\n",
      "True Negative \t: 0.0\n",
      "F Square \t: 0.692810457516\n",
      "Print the Label of Support Vectors 39 0\n"
     ]
    }
   ],
   "source": [
    "alphas,W0,W,sv,sv_y = fit(X_Train, Y_Train,c=0.02,kernel_fn=gaussian_kernel)\n",
    "\n",
    "y_predict = predict(alphas,sv,sv_y,W,W0,X_Test,kernel=gaussian_kernel)\n",
    "evaluate_performance(y_predict,Y_Test,1)\n",
    "\n",
    "print \"Print the Label of Support Vectors\" , len(sv_y[sv_y==0]),len(sv_y[sv_y==1]) \n"
   ]
  },
  {
   "cell_type": "markdown",
   "metadata": {},
   "source": [
    ">When we take dataset that is skewed towards one class , the accuracy drastically reduces. \n",
    "\n",
    ">Another reason that lead to the reduction in accuracy is that only few features of the whole dataset is used , which makes the classification weak as well. \n"
   ]
  },
  {
   "cell_type": "markdown",
   "metadata": {},
   "source": [
    "### Spam Vs Not Spam Dataset "
   ]
  },
  {
   "cell_type": "code",
   "execution_count": 135,
   "metadata": {
    "collapsed": false
   },
   "outputs": [],
   "source": [
    "externaldata = getdata_CSV(\"../data/spambase.csv\") \n",
    " \n",
    "X_Train = externaldata[:400,[1,2]]\n",
    "Y_Train = externaldata[:400,externaldata.shape[1]-1]\n",
    "X_Test = externaldata[400:500,[1,2]]\n",
    "Y_Test = externaldata[400:500,externaldata.shape[1]-1]"
   ]
  },
  {
   "cell_type": "code",
   "execution_count": 136,
   "metadata": {
    "collapsed": false
   },
   "outputs": [
    {
     "name": "stdout",
     "output_type": "stream",
     "text": [
      "Number of samples with class 1  174 -- Number of samples with class 2  226\n"
     ]
    }
   ],
   "source": [
    "count = 0\n",
    "for i in (Y_Train):\n",
    "    if i==1:\n",
    "        count +=1\n",
    "    \n",
    "print \"Number of samples with class 1 \",count ,\"-- Number of samples with class 2 \",len(Y_Train)-count  "
   ]
  },
  {
   "cell_type": "code",
   "execution_count": 137,
   "metadata": {
    "collapsed": false
   },
   "outputs": [
    {
     "name": "stdout",
     "output_type": "stream",
     "text": [
      "400\n",
      "     pcost       dcost       gap    pres   dres\n",
      " 0: -9.2357e-03 -8.0231e+00  8e+02  3e+01  2e-15\n",
      " 1: -9.0627e-03 -7.7167e+00  2e+01  3e-01  1e-15\n",
      " 2: -4.9961e-03 -1.2366e+00  1e+00  9e-03  5e-16\n",
      " 3: -5.1470e-03 -5.4261e-02  5e-02  3e-04  7e-16\n",
      " 4: -6.7857e-03 -1.5928e-02  1e-02  4e-05  7e-16\n",
      " 5: -7.1334e-03 -9.9096e-03  3e-03  1e-05  7e-16\n",
      " 6: -7.1703e-03 -9.7193e-03  3e-03  1e-05  5e-16\n",
      " 7: -7.3301e-03 -8.3071e-03  1e-03  2e-06  1e-15\n",
      " 8: -7.3848e-03 -7.4786e-03  1e-04  2e-07  3e-15\n",
      " 9: -7.3914e-03 -7.3949e-03  4e-06  4e-09  6e-16\n",
      "10: -7.3915e-03 -7.3916e-03  4e-08  4e-11  5e-16\n",
      "Optimal solution found.\n",
      "Accuracy \t: 0.63\n",
      "Recall  \t: 1.0\n",
      "False Negative \t: 0.0\n",
      "Precision \t: 0.63\n",
      "False Positive \t: 1.0\n",
      "True Negative \t: 0.0\n",
      "F Square \t: 0.773006134969\n"
     ]
    },
    {
     "data": {
      "text/plain": [
       "(0.63, 1.0)"
      ]
     },
     "execution_count": 137,
     "metadata": {},
     "output_type": "execute_result"
    }
   ],
   "source": [
    "alphas,W0,W,sv,sv_y = fit(X_Train, Y_Train,c=0.02,kernel_fn=gaussian_kernel)\n",
    "\n",
    "y_predict = predict(alphas,sv,sv_y,W,W0,X_Test,kernel=gaussian_kernel)\n",
    "evaluate_performance(y_predict,Y_Test,1)"
   ]
  },
  {
   "cell_type": "code",
   "execution_count": null,
   "metadata": {
    "collapsed": true
   },
   "outputs": [],
   "source": []
  }
 ],
 "metadata": {
  "kernelspec": {
   "display_name": "Python 2",
   "language": "python",
   "name": "python2"
  },
  "language_info": {
   "codemirror_mode": {
    "name": "ipython",
    "version": 2
   },
   "file_extension": ".py",
   "mimetype": "text/x-python",
   "name": "python",
   "nbconvert_exporter": "python",
   "pygments_lexer": "ipython2",
   "version": "2.7.11"
  }
 },
 "nbformat": 4,
 "nbformat_minor": 0
}
