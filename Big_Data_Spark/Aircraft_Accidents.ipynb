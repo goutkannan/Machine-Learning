{
 "cells": [
  {
   "cell_type": "code",
   "execution_count": 46,
   "metadata": {
    "collapsed": true
   },
   "outputs": [],
   "source": [
    "import pandas as pd\n",
    "from pyspark.sql.functions import desc,udf,col\n",
    " "
   ]
  },
  {
   "cell_type": "code",
   "execution_count": 3,
   "metadata": {
    "collapsed": false
   },
   "outputs": [],
   "source": [
    "sql = SQLContext(sc)\n",
    "\n",
    "accidents = (sql.read\n",
    "         .format(\"com.databricks.spark.csv\")\n",
    "         .option(\"header\", \"true\")\n",
    "         .load(\"/resources/Airplane_Crashes.csv\"))"
   ]
  },
  {
   "cell_type": "code",
   "execution_count": 22,
   "metadata": {
    "collapsed": false
   },
   "outputs": [
    {
     "name": "stdout",
     "output_type": "stream",
     "text": [
      "root\n",
      " |-- Date: string (nullable = true)\n",
      " |-- Time: string (nullable = true)\n",
      " |-- Location: string (nullable = true)\n",
      " |-- Operator: string (nullable = true)\n",
      " |-- Flight #: string (nullable = true)\n",
      " |-- Route: string (nullable = true)\n",
      " |-- Type: string (nullable = true)\n",
      " |-- Registration: string (nullable = true)\n",
      " |-- cn/In: string (nullable = true)\n",
      " |-- Aboard: string (nullable = true)\n",
      " |-- Fatalities: string (nullable = true)\n",
      " |-- Ground: string (nullable = true)\n",
      " |-- Summary: string (nullable = true)\n",
      "\n",
      "None\n"
     ]
    }
   ],
   "source": [
    "print(accidents.printSchema())"
   ]
  },
  {
   "cell_type": "code",
   "execution_count": 5,
   "metadata": {
    "collapsed": false
   },
   "outputs": [],
   "source": [
    "#converting string column to integer column\n",
    "accidents = accidents.withColumn(\"Fatalitiestmp\", accidents.Fatalities.cast(\"Integer\")).drop(\"Fatalities\").withColumnRenamed(\"Fatalitiestmp\", \"Fatalities\")"
   ]
  },
  {
   "cell_type": "code",
   "execution_count": 70,
   "metadata": {
    "collapsed": false
   },
   "outputs": [
    {
     "name": "stdout",
     "output_type": "stream",
     "text": [
      "root\n",
      " |-- Date: string (nullable = true)\n",
      " |-- Time: string (nullable = true)\n",
      " |-- Location: string (nullable = true)\n",
      " |-- Operator: string (nullable = true)\n",
      " |-- Flight #: string (nullable = true)\n",
      " |-- Route: string (nullable = true)\n",
      " |-- Type: string (nullable = true)\n",
      " |-- Registration: string (nullable = true)\n",
      " |-- cn/In: string (nullable = true)\n",
      " |-- Aboard: string (nullable = true)\n",
      " |-- Ground: string (nullable = true)\n",
      " |-- Summary: string (nullable = true)\n",
      " |-- Fatalities: integer (nullable = true)\n",
      "\n",
      "None\n"
     ]
    }
   ],
   "source": [
    "print(accidents.printSchema())"
   ]
  },
  {
   "cell_type": "markdown",
   "metadata": {},
   "source": [
    "## List of top 10 killer operators"
   ]
  },
  {
   "cell_type": "code",
   "execution_count": 12,
   "metadata": {
    "collapsed": true
   },
   "outputs": [],
   "source": [
    "import matplotlib\n",
    "%matplotlib inline  "
   ]
  },
  {
   "cell_type": "code",
   "execution_count": 23,
   "metadata": {
    "collapsed": false
   },
   "outputs": [
    {
     "name": "stdout",
     "output_type": "stream",
     "text": [
      "                          Operator  sum(Fatalities)\n",
      "0                         Aeroflot           7156.0\n",
      "1        Military - U.S. Air Force           3717.0\n",
      "2                       Air France           1734.0\n",
      "3                American Airlines           1421.0\n",
      "4       Pan American World Airways           1302.0\n",
      "5  Military - U.S. Army Air Forces           1070.0\n",
      "6                 United Air Lines           1021.0\n",
      "7                          AVIANCA            941.0\n",
      "8           Turkish Airlines (THY)            891.0\n",
      "9                  Indian Airlines            863.0\n"
     ]
    },
    {
     "data": {
      "text/plain": [
       "<matplotlib.axes._subplots.AxesSubplot at 0x7fc984130fd0>"
      ]
     },
     "execution_count": 23,
     "metadata": {},
     "output_type": "execute_result"
    },
    {
     "data": {
      "image/png": "[encoded data removed]",
      "text/plain": [
       "<matplotlib.figure.Figure at 0x7fc984136c88>"
      ]
     },
     "metadata": {},
     "output_type": "display_data"
    }
   ],
   "source": [
    "\n",
    "pd_data = accidents.select('Operator','Fatalities').groupby('Operator').sum('Fatalities').sort(desc(\"sum(Fatalities)\")).toPandas().head(10)\n",
    "print(pd_data)\n",
    "pd_data.plot(kind='bar',title='Accidents by Operator')\n"
   ]
  },
  {
   "cell_type": "code",
   "execution_count": 25,
   "metadata": {
    "collapsed": false
   },
   "outputs": [
    {
     "data": {
      "text/html": [
       "<div>\n",
       "<table border=\"1\" class=\"dataframe\">\n",
       "  <thead>\n",
       "    <tr style=\"text-align: right;\">\n",
       "      <th></th>\n",
       "      <th>Route</th>\n",
       "      <th>count</th>\n",
       "    </tr>\n",
       "  </thead>\n",
       "  <tbody>\n",
       "    <tr>\n",
       "      <th>0</th>\n",
       "      <td></td>\n",
       "      <td>1706</td>\n",
       "    </tr>\n",
       "    <tr>\n",
       "      <th>1</th>\n",
       "      <td>Training</td>\n",
       "      <td>81</td>\n",
       "    </tr>\n",
       "    <tr>\n",
       "      <th>2</th>\n",
       "      <td>Sightseeing</td>\n",
       "      <td>29</td>\n",
       "    </tr>\n",
       "    <tr>\n",
       "      <th>3</th>\n",
       "      <td>Test flight</td>\n",
       "      <td>17</td>\n",
       "    </tr>\n",
       "    <tr>\n",
       "      <th>4</th>\n",
       "      <td>Test</td>\n",
       "      <td>6</td>\n",
       "    </tr>\n",
       "    <tr>\n",
       "      <th>5</th>\n",
       "      <td>Sao Paulo - Rio de Janeiro</td>\n",
       "      <td>5</td>\n",
       "    </tr>\n",
       "    <tr>\n",
       "      <th>6</th>\n",
       "      <td>Saigon - Paris</td>\n",
       "      <td>4</td>\n",
       "    </tr>\n",
       "    <tr>\n",
       "      <th>7</th>\n",
       "      <td>Sao Paulo - Porto Alegre</td>\n",
       "      <td>4</td>\n",
       "    </tr>\n",
       "    <tr>\n",
       "      <th>8</th>\n",
       "      <td>Bogota - Barranquilla</td>\n",
       "      <td>4</td>\n",
       "    </tr>\n",
       "    <tr>\n",
       "      <th>9</th>\n",
       "      <td>Villavicencio - Mitu</td>\n",
       "      <td>4</td>\n",
       "    </tr>\n",
       "  </tbody>\n",
       "</table>\n",
       "</div>"
      ],
      "text/plain": [
       "                        Route  count\n",
       "0                               1706\n",
       "1                    Training     81\n",
       "2                 Sightseeing     29\n",
       "3                 Test flight     17\n",
       "4                        Test      6\n",
       "5  Sao Paulo - Rio de Janeiro      5\n",
       "6              Saigon - Paris      4\n",
       "7    Sao Paulo - Porto Alegre      4\n",
       "8       Bogota - Barranquilla      4\n",
       "9        Villavicencio - Mitu      4"
      ]
     },
     "execution_count": 25,
     "metadata": {},
     "output_type": "execute_result"
    }
   ],
   "source": [
    "accidents.groupby('Route').count().sort(desc(\"count\")).dropna().toPandas().head(10)"
   ]
  },
  {
   "cell_type": "code",
   "execution_count": 28,
   "metadata": {
    "collapsed": false
   },
   "outputs": [
    {
     "data": {
      "text/html": [
       "<div>\n",
       "<table border=\"1\" class=\"dataframe\">\n",
       "  <thead>\n",
       "    <tr style=\"text-align: right;\">\n",
       "      <th></th>\n",
       "      <th>Type</th>\n",
       "      <th>count</th>\n",
       "    </tr>\n",
       "  </thead>\n",
       "  <tbody>\n",
       "    <tr>\n",
       "      <th>0</th>\n",
       "      <td>Douglas DC-3</td>\n",
       "      <td>334</td>\n",
       "    </tr>\n",
       "    <tr>\n",
       "      <th>1</th>\n",
       "      <td>de Havilland Canada DHC-6 Twin Otter 300</td>\n",
       "      <td>81</td>\n",
       "    </tr>\n",
       "    <tr>\n",
       "      <th>2</th>\n",
       "      <td>Douglas C-47A</td>\n",
       "      <td>74</td>\n",
       "    </tr>\n",
       "    <tr>\n",
       "      <th>3</th>\n",
       "      <td>Douglas C-47</td>\n",
       "      <td>62</td>\n",
       "    </tr>\n",
       "    <tr>\n",
       "      <th>4</th>\n",
       "      <td>Douglas DC-4</td>\n",
       "      <td>40</td>\n",
       "    </tr>\n",
       "    <tr>\n",
       "      <th>5</th>\n",
       "      <td>Yakovlev YAK-40</td>\n",
       "      <td>37</td>\n",
       "    </tr>\n",
       "    <tr>\n",
       "      <th>6</th>\n",
       "      <td>Antonov AN-26</td>\n",
       "      <td>36</td>\n",
       "    </tr>\n",
       "    <tr>\n",
       "      <th>7</th>\n",
       "      <td>Junkers JU-52/3m</td>\n",
       "      <td>32</td>\n",
       "    </tr>\n",
       "    <tr>\n",
       "      <th>8</th>\n",
       "      <td>Douglas C-47B</td>\n",
       "      <td>29</td>\n",
       "    </tr>\n",
       "    <tr>\n",
       "      <th>9</th>\n",
       "      <td>De Havilland DH-4</td>\n",
       "      <td>28</td>\n",
       "    </tr>\n",
       "  </tbody>\n",
       "</table>\n",
       "</div>"
      ],
      "text/plain": [
       "                                       Type  count\n",
       "0                              Douglas DC-3    334\n",
       "1  de Havilland Canada DHC-6 Twin Otter 300     81\n",
       "2                             Douglas C-47A     74\n",
       "3                              Douglas C-47     62\n",
       "4                              Douglas DC-4     40\n",
       "5                           Yakovlev YAK-40     37\n",
       "6                             Antonov AN-26     36\n",
       "7                          Junkers JU-52/3m     32\n",
       "8                             Douglas C-47B     29\n",
       "9                         De Havilland DH-4     28"
      ]
     },
     "execution_count": 28,
     "metadata": {},
     "output_type": "execute_result"
    }
   ],
   "source": [
    "accidents.groupby('Type').count().sort(desc(\"count\")).toPandas().head(10)"
   ]
  },
  {
   "cell_type": "code",
   "execution_count": 29,
   "metadata": {
    "collapsed": true
   },
   "outputs": [],
   "source": [
    "from pyspark.ml.feature import Tokenizer, RegexTokenizer"
   ]
  },
  {
   "cell_type": "code",
   "execution_count": 48,
   "metadata": {
    "collapsed": false
   },
   "outputs": [],
   "source": [
    "sentenceDataFrame  = accidents.select('Summary')\n",
    "regexTokenizer = RegexTokenizer(inputCol=\"Summary\", outputCol=\"words\", pattern=\"\\\\W\")"
   ]
  },
  {
   "cell_type": "code",
   "execution_count": 49,
   "metadata": {
    "collapsed": false
   },
   "outputs": [],
   "source": [
    "from pyspark.sql.types import IntegerType\n",
    "countTokens = udf(lambda words: len(words), IntegerType())"
   ]
  },
  {
   "cell_type": "code",
   "execution_count": 63,
   "metadata": {
    "collapsed": false,
    "scrolled": false
   },
   "outputs": [
    {
     "name": "stdout",
     "output_type": "stream",
     "text": [
      "+--------------------+------+\n",
      "|               words|tokens|\n",
      "+--------------------+------+\n",
      "|[during, a, demon...|    86|\n",
      "|[first, u, s, dir...|    19|\n",
      "|[the, first, fata...|    18|\n",
      "|[the, airship, fl...|    35|\n",
      "|[hydrogen, gas, w...|    25|\n",
      "|[crashed, into, t...|    16|\n",
      "|[exploded, and, b...|    15|\n",
      "|[crashed, near, t...|     7|\n",
      "|[shot, down, by, ...|     8|\n",
      "|[shot, down, in, ...|    11|\n",
      "|[crashed, in, a, ...|     4|\n",
      "|[shot, down, by, ...|    15|\n",
      "|[caught, fire, an...|     4|\n",
      "|[struck, by, ligh...|     8|\n",
      "|[crashed, into, t...|    18|\n",
      "|[shot, down, by, ...|     5|\n",
      "|[shot, down, by, ...|     5|\n",
      "|[shot, down, by, ...|     7|\n",
      "|[exploded, and, c...|    12|\n",
      "|[shot, down, by, ...|    13|\n",
      "+--------------------+------+\n",
      "only showing top 20 rows\n",
      "\n"
     ]
    }
   ],
   "source": [
    "regexTokenized = regexTokenizer.transform(sentenceDataFrame)\n",
    "regexTokenized.select(\"words\") \\\n",
    "        .withColumn(\"tokens\", countTokens(col(\"words\"))).show()\n",
    "words_df = regexTokenized.select(\"words\")"
   ]
  },
  {
   "cell_type": "code",
   "execution_count": 141,
   "metadata": {
    "collapsed": false
   },
   "outputs": [],
   "source": [
    "from pyspark.ml.feature import Word2Vec,NGram\n",
    "from collections import Counter\n",
    "from pyspark.ml.feature import StopWordsRemover"
   ]
  },
  {
   "cell_type": "code",
   "execution_count": 68,
   "metadata": {
    "collapsed": false
   },
   "outputs": [],
   "source": [
    "word2Vec = Word2Vec(vectorSize=3, minCount=0, inputCol=\"words\", outputCol=\"result\")\n",
    "model = word2Vec.fit(words_df.select(\"words\"))\n",
    "result = model.transform(words_df.select(\"words\"))\n"
   ]
  },
  {
   "cell_type": "code",
   "execution_count": 158,
   "metadata": {
    "collapsed": false
   },
   "outputs": [],
   "source": [
    "remover = StopWordsRemover(inputCol=\"words\", outputCol=\"filtered_words\")\n",
    "data_df = remover.transform(words_df.select(\"words\")).select('filtered_words')\n"
   ]
  },
  {
   "cell_type": "code",
   "execution_count": 159,
   "metadata": {
    "collapsed": false
   },
   "outputs": [
    {
     "data": {
      "text/plain": [
       "Row(filtered_words=['demonstration', 'flight', 'u', 's', 'army', 'flyer', 'flown', 'orville', 'wright', 'nose', 'dived', 'ground', 'height', 'approximately', '75', 'feet', 'killing', 'lt', 'thomas', 'e', 'selfridge', 'passenger', 'recorded', 'airplane', 'fatality', 'history', 'propellers', 'separated', 'flight', 'tearing', 'loose', 'wires', 'bracing', 'rudder', 'causing', 'loss', 'control', 'aircraft', 'orville', 'wright', 'suffered', 'broken', 'ribs', 'pelvis', 'leg', 'selfridge', 'suffered', 'crushed', 'skull', 'died', 'short', 'time', 'later'])"
      ]
     },
     "execution_count": 159,
     "metadata": {},
     "output_type": "execute_result"
    }
   ],
   "source": [
    "data_df.head()"
   ]
  },
  {
   "cell_type": "code",
   "execution_count": 160,
   "metadata": {
    "collapsed": false
   },
   "outputs": [
    {
     "name": "stdout",
     "output_type": "stream",
     "text": [
      "root\n",
      " |-- filtered_words: array (nullable = true)\n",
      " |    |-- element: string (containsNull = true)\n",
      " |-- ngrams: array (nullable = true)\n",
      " |    |-- element: string (containsNull = false)\n",
      "\n",
      "None\n"
     ]
    }
   ],
   "source": [
    "ngram = NGram(inputCol=\"filtered_words\", outputCol=\"ngrams\")\n",
    "ngramDataFrame = ngram.transform(data_df)\n",
    "print(ngramDataFrame.printSchema())\n"
   ]
  },
  {
   "cell_type": "code",
   "execution_count": 161,
   "metadata": {
    "collapsed": true
   },
   "outputs": [],
   "source": [
    "def line_to_ngrams(line):\n",
    "    print(\"val\" +str(line))\n",
    "    return line[0]\n",
    "    "
   ]
  },
  {
   "cell_type": "code",
   "execution_count": 171,
   "metadata": {
    "collapsed": false,
    "scrolled": false
   },
   "outputs": [],
   "source": [
    "from operator import add\n",
    "ng=ngramDataFrame.select(\"ngrams\")\n",
    "result = ng.flatMap(line_to_ngrams).map(lambda x: (x, 1)) \\\n",
    "                  .reduceByKey(add).sortBy(lambda x: x[1], ascending=False).collect()\n",
    "    \n"
   ]
  },
  {
   "cell_type": "code",
   "execution_count": 178,
   "metadata": {
    "collapsed": false
   },
   "outputs": [
    {
     "data": {
      "text/plain": [
       "<matplotlib.axes._subplots.AxesSubplot at 0x7fc964d7ba58>"
      ]
     },
     "execution_count": 178,
     "metadata": {},
     "output_type": "execute_result"
    },
    {
     "data": {
      "image/png": "[encoded data removed]",
      "text/plain": [
       "<matplotlib.figure.Figure at 0x7fc964d05128>"
      ]
     },
     "metadata": {},
     "output_type": "display_data"
    }
   ],
   "source": [
    "result_df = pd.DataFrame.from_records(result[:20], columns=['bigrams','count'])\n",
    "result_df.plot(kind='bar',title='frequent bigrams', x = result_df.bigrams )"
   ]
  },
  {
   "cell_type": "code",
   "execution_count": null,
   "metadata": {
    "collapsed": true
   },
   "outputs": [],
   "source": []
  }
 ],
 "metadata": {
  "kernelspec": {
   "display_name": "Python 3",
   "language": "python",
   "name": "python3"
  },
  "language_info": {
   "codemirror_mode": {
    "name": "ipython",
    "version": 3
   },
   "file_extension": ".py",
   "mimetype": "text/x-python",
   "name": "python",
   "nbconvert_exporter": "python",
   "pygments_lexer": "ipython3",
   "version": "3.5.2"
  },
  "widgets": {
   "state": {},
   "version": "1.1.2"
  }
 },
 "nbformat": 4,
 "nbformat_minor": 0
}
